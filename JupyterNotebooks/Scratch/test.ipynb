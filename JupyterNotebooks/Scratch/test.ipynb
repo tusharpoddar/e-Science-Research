{
 "cells": [
  {
   "cell_type": "markdown",
   "metadata": {},
   "source": [
    "### The file can be used to understand the use of a widget in a holoviews plot.\n",
    "\n",
    "This code was later used to add widgets to the interactive map where we change NFFT to see how it affects spectrograms."
   ]
  },
  {
   "cell_type": "code",
   "execution_count": null,
   "metadata": {},
   "outputs": [],
   "source": [
    "import param\n",
    "import numpy as np\n",
    "import holoviews as hv\n",
    "from holoviews import opts\n",
    "\n",
    "hv.extension('bokeh', 'matplotlib')"
   ]
  },
  {
   "cell_type": "code",
   "execution_count": null,
   "metadata": {},
   "outputs": [],
   "source": [
    "from scipy.misc import ascent"
   ]
  },
  {
   "cell_type": "code",
   "execution_count": null,
   "metadata": {},
   "outputs": [],
   "source": [
    "print(ascent().shape)\n",
    "temp = ascent()"
   ]
  },
  {
   "cell_type": "code",
   "execution_count": null,
   "metadata": {},
   "outputs": [],
   "source": [
    "temp[::2, ::2].shape"
   ]
  },
  {
   "cell_type": "code",
   "execution_count": null,
   "metadata": {},
   "outputs": [],
   "source": [
    "stairs_image = hv.Image(ascent()[:, :], label=\"stairs\")\n",
    "stairs_image"
   ]
  },
  {
   "cell_type": "code",
   "execution_count": null,
   "metadata": {},
   "outputs": [],
   "source": [
    "from scipy import interpolate\n",
    "\n",
    "x = np.arange(0,512,8)\n",
    "y = np.arange(0,512,8)\n",
    "\n",
    "xx, yy = np.meshgrid(x, y)\n",
    "\n",
    "z = ascent()[::8, ::8]\n",
    "\n",
    "f = interpolate.interp2d(x, y, z, kind='cubic')\n",
    "x2 = np.arange(0,512,1)\n",
    "y2 = np.arange(0,512,1)\n",
    "\n",
    "newz = f(x2, y2)\n",
    "\n",
    "print(newz.shape)\n",
    "stairs_image = hv.Image(newz, label=\"stairs\")\n",
    "stairs_image"
   ]
  },
  {
   "cell_type": "code",
   "execution_count": null,
   "metadata": {
    "scrolled": false
   },
   "outputs": [],
   "source": [
    "# doing subsampling \n",
    "info = 9\n",
    "from scipy import ndimage\n",
    "from scipy import interpolate\n",
    "\n",
    "class image_filter(hv.Operation):\n",
    "    \n",
    "    sigma = param.Number(default=2)\n",
    "\n",
    "    def _process(self, element, key=None):\n",
    "        x = np.arange(0,512,self.p.sigma)\n",
    "        y = np.arange(0,512,self.p.sigma)\n",
    "        \n",
    "        xx, yy = np.meshgrid(x, y)\n",
    "        \n",
    "        z = ascent()[::self.p.sigma, ::self.p.sigma]\n",
    "        f = interpolate.interp2d(x, y, z, kind='cubic')\n",
    "        \n",
    "        x2 = np.arange(0,512,1)\n",
    "        y2 = np.arange(0,512,1)\n",
    "        \n",
    "        newz = f(x2, y2)\n",
    "        return hv.Image(newz, label=\"stairs\")\n",
    "\n",
    "stairs_map = hv.HoloMap({sigma: image_filter(stairs_image,sigma=sigma)\n",
    "                         for sigma in range(1, 12, 1)}, kdims=\"Sigma\")\n",
    "\n",
    "stairs_map.opts(framewise=True)"
   ]
  },
  {
   "cell_type": "code",
   "execution_count": null,
   "metadata": {},
   "outputs": [],
   "source": [
    "stairs_image = hv.Image(ascent()[200:500, :], bounds=[0, 0, ascent().shape[1], 300], label=\"stairs\")\n",
    "stairs_image"
   ]
  },
  {
   "cell_type": "code",
   "execution_count": null,
   "metadata": {},
   "outputs": [],
   "source": [
    "from scipy import ndimage\n",
    "\n",
    "class image_filter(hv.Operation):\n",
    "    \n",
    "    sigma = param.Number(default=10)\n",
    "    \n",
    "    type_ = param.String(default=\"low-pass\")\n",
    "\n",
    "    def _process(self, element, key=None):\n",
    "        xs = element.dimension_values(0, expanded=False)\n",
    "        ys = element.dimension_values(1, expanded=False)\n",
    "        \n",
    "        # setting flat=False will preserve the matrix shape\n",
    "        data = element.dimension_values(2, flat=False)\n",
    "        \n",
    "        new_data = ndimage.gaussian_filter(data, self.p.sigma)\n",
    "        \n",
    "        # make an exact copy of the element with all settings, just with different data and label:\n",
    "        element = element.clone((xs, ys, new_data))\n",
    "        return element\n",
    "\n",
    "    \n",
    "stairs_map = hv.HoloMap({sigma: image_filter(stairs_image, sigma=sigma)\n",
    "                         for sigma in range(0, 12, 1)}, kdims=\"Sigmakdsmf\")\n",
    "\n",
    "stairs_map.opts(framewise=True)"
   ]
  },
  {
   "cell_type": "code",
   "execution_count": 1,
   "metadata": {},
   "outputs": [
    {
     "data": {
      "text/plain": [
       "<Figure size 640x480 with 2 Axes>"
      ]
     },
     "metadata": {},
     "output_type": "display_data"
    }
   ],
   "source": [
    "import matplotlib.pyplot as plt\n",
    "import numpy as np\n",
    "\n",
    "# Fixing random state for reproducibility\n",
    "np.random.seed(19680801)\n",
    "\n",
    "dt = 0.0005\n",
    "t = np.arange(0.0, 20.0, dt)\n",
    "s1 = np.sin(2 * np.pi * 100 * t)\n",
    "s2 = 2 * np.sin(2 * np.pi * 400 * t)\n",
    "\n",
    "# create a transient \"chirp\"\n",
    "s2[t <= 10] = s2[12 <= t] = 0\n",
    "\n",
    "# add some noise into the mix\n",
    "nse = 0.01 * np.random.random(size=len(t))\n",
    "\n",
    "x = s1 + s2 + nse  # the signal\n",
    "NFFT = 1024  # the length of the windowing segments\n",
    "Fs = int(1.0 / dt)  # the sampling frequency\n",
    "\n",
    "fig, (ax1, ax2) = plt.subplots(nrows=2)\n",
    "ax1.plot(t, x)\n",
    "Pxx, freqs, bins, im = ax2.specgram(x, NFFT=NFFT, Fs=Fs, noverlap=900)\n",
    "# The `specgram` method returns 4 objects. They are:\n",
    "# - Pxx: the periodogram\n",
    "# - freqs: the frequency vector\n",
    "# - bins: the centers of the time bins\n",
    "# - im: the matplotlib.image.AxesImage instance representing the data in the plot\n",
    "plt.show()"
   ]
  },
  {
   "cell_type": "code",
   "execution_count": null,
   "metadata": {},
   "outputs": [],
   "source": []
  }
 ],
 "metadata": {
  "kernelspec": {
   "display_name": "Python 3",
   "language": "python",
   "name": "python3"
  },
  "language_info": {
   "codemirror_mode": {
    "name": "ipython",
    "version": 3
   },
   "file_extension": ".py",
   "mimetype": "text/x-python",
   "name": "python",
   "nbconvert_exporter": "python",
   "pygments_lexer": "ipython3",
   "version": "3.6.6"
  }
 },
 "nbformat": 4,
 "nbformat_minor": 2
}
