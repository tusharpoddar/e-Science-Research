{
 "cells": [
  {
   "cell_type": "markdown",
   "metadata": {},
   "source": [
    "## The following file is used to understand how the VGGISH model makes the mel Spectrogram. \n",
    "\n",
    "In the following file I try to feed in a wav file and test all the functions of the file vggish_input and mel_features. This is done in an attempt to understand how the model converts all the data to the mel spectrogram.  "
   ]
  },
  {
   "cell_type": "code",
   "execution_count": null,
   "metadata": {},
   "outputs": [],
   "source": [
    "from vggish_input import waveform_to_examples, wavfile_to_examples"
   ]
  },
  {
   "cell_type": "code",
   "execution_count": 2,
   "metadata": {},
   "outputs": [],
   "source": [
    "# Architectural constants.\n",
    "NUM_FRAMES = 96  # Frames in input mel-spectrogram patch.\n",
    "NUM_BANDS = 64  # Frequency bands in input mel-spectrogram patch.\n",
    "EMBEDDING_SIZE = 128  # Size of embedding layer.\n",
    "\n",
    "# Hyperparameters used in feature and example generation.\n",
    "SAMPLE_RATE = 16000\n",
    "STFT_WINDOW_LENGTH_SECONDS = 0.025\n",
    "STFT_HOP_LENGTH_SECONDS = 0.010\n",
    "NUM_MEL_BINS = NUM_BANDS\n",
    "MEL_MIN_HZ = 125\n",
    "MEL_MAX_HZ = 7500\n",
    "LOG_OFFSET = 0.01  # Offset used for stabilized log of input mel-spectrogram.\n",
    "EXAMPLE_WINDOW_SECONDS = 0.96  # Each example contains 96 10ms frames\n",
    "EXAMPLE_HOP_SECONDS = 0.96     # with zero overlap.\n",
    "\n",
    "# Parameters used for embedding postprocessing.\n",
    "PCA_EIGEN_VECTORS_NAME = 'pca_eigen_vectors'\n",
    "PCA_MEANS_NAME = 'pca_means'\n",
    "QUANTIZE_MIN_VAL = -2.0\n",
    "QUANTIZE_MAX_VAL = +2.0\n",
    "\n",
    "# Hyperparameters used in training.\n",
    "INIT_STDDEV = 0.01  # Standard deviation used to initialize weights.\n",
    "LEARNING_RATE = 1e-4  # Learning rate for the Adam optimizer.\n",
    "ADAM_EPSILON = 1e-8  # Epsilon for the Adam optimizer.\n",
    "\n",
    "# Names of ops, tensors, and features.\n",
    "INPUT_OP_NAME = 'vggish/input_features'\n",
    "INPUT_TENSOR_NAME = INPUT_OP_NAME + ':0'\n",
    "OUTPUT_OP_NAME = 'vggish/embedding'\n",
    "OUTPUT_TENSOR_NAME = OUTPUT_OP_NAME + ':0'\n",
    "AUDIO_EMBEDDING_FEATURE_NAME = 'audio_embedding'\n"
   ]
  },
  {
   "cell_type": "code",
   "execution_count": 3,
   "metadata": {},
   "outputs": [],
   "source": [
    "import mel_features"
   ]
  },
  {
   "cell_type": "code",
   "execution_count": 4,
   "metadata": {},
   "outputs": [],
   "source": [
    "import mel_features\n",
    "import vggish_params\n",
    "import numpy as np"
   ]
  },
  {
   "cell_type": "code",
   "execution_count": 5,
   "metadata": {},
   "outputs": [
    {
     "data": {
      "text/plain": [
       "(14598982,)"
      ]
     },
     "execution_count": 5,
     "metadata": {},
     "output_type": "execute_result"
    }
   ],
   "source": [
    "from scipy.io import wavfile\n",
    "# code if i wrote the first code\n",
    "fs, data = wavfile.read('tester.wav')\n",
    "data.shape"
   ]
  },
  {
   "cell_type": "code",
   "execution_count": 6,
   "metadata": {},
   "outputs": [
    {
     "name": "stdout",
     "output_type": "stream",
     "text": [
      "250000\n"
     ]
    }
   ],
   "source": [
    "print(fs)"
   ]
  },
  {
   "cell_type": "code",
   "execution_count": 7,
   "metadata": {},
   "outputs": [
    {
     "name": "stdout",
     "output_type": "stream",
     "text": [
      "250000\n"
     ]
    },
    {
     "data": {
      "text/plain": [
       "(950, 96, 64)"
      ]
     },
     "execution_count": 7,
     "metadata": {},
     "output_type": "execute_result"
    }
   ],
   "source": [
    "# this is the normal conventisnal method of looking at data\n",
    "# the main problem that we get in here while working with the normal function and manually typing ours is that when\n",
    "# the sampling frequency of the wav file that we get is not equal to the sampling frequency that the VGGish\n",
    "# model has specified then the vggish model resamples the data and we might lose some of the data in that process. \n",
    "out = wavfile_to_examples('tester.wav')\n",
    "out.shape"
   ]
  },
  {
   "cell_type": "code",
   "execution_count": null,
   "metadata": {},
   "outputs": [],
   "source": [
    "import matplotlib.pyplot as plt\n",
    "plt.imshow(out[1][:90,:].T)"
   ]
  },
  {
   "cell_type": "code",
   "execution_count": null,
   "metadata": {},
   "outputs": [],
   "source": [
    "out.shape"
   ]
  },
  {
   "cell_type": "code",
   "execution_count": null,
   "metadata": {},
   "outputs": [],
   "source": [
    "out2 = mel_features.spectrogram_to_mel_matrix()\n",
    "out2.shape"
   ]
  },
  {
   "cell_type": "code",
   "execution_count": null,
   "metadata": {},
   "outputs": [],
   "source": [
    "# doing the calculations anf the computaion on our own\n",
    "log_mel = mel_features.log_mel_spectrogram(\n",
    "      data,\n",
    "      audio_sample_rate=vggish_params.SAMPLE_RATE,\n",
    "      log_offset=vggish_params.LOG_OFFSET,\n",
    "      window_length_secs=vggish_params.STFT_WINDOW_LENGTH_SECONDS,\n",
    "      hop_length_secs=vggish_params.STFT_HOP_LENGTH_SECONDS,\n",
    "      num_mel_bins=vggish_params.NUM_MEL_BINS,\n",
    "      lower_edge_hertz=vggish_params.MEL_MIN_HZ,\n",
    "      upper_edge_hertz=vggish_params.MEL_MAX_HZ)"
   ]
  },
  {
   "cell_type": "code",
   "execution_count": null,
   "metadata": {},
   "outputs": [],
   "source": [
    "features_sample_rate = 1.0 / vggish_params.STFT_HOP_LENGTH_SECONDS\n",
    "\n",
    "example_window_length = int(round(\n",
    "      vggish_params.EXAMPLE_WINDOW_SECONDS * features_sample_rate))\n",
    "\n",
    "example_hop_length = int(round(\n",
    "      vggish_params.EXAMPLE_HOP_SECONDS * features_sample_rate))\n",
    "\n",
    "log_mel_examples = mel_features.frame(\n",
    "      log_mel,\n",
    "      window_length=example_window_length,\n",
    "      hop_length=example_hop_length)"
   ]
  },
  {
   "cell_type": "code",
   "execution_count": null,
   "metadata": {},
   "outputs": [],
   "source": [
    "# it is a 2d array from before only and hence it is easy to plot it in the original form\n",
    "log_mel_examples.shape\n",
    "# plt.imshow(log_mel_examples[50][:90,:].T)"
   ]
  },
  {
   "cell_type": "code",
   "execution_count": null,
   "metadata": {},
   "outputs": [],
   "source": [
    "vggish_params.MEL_MIN_HZ"
   ]
  },
  {
   "cell_type": "code",
   "execution_count": null,
   "metadata": {},
   "outputs": [],
   "source": [
    "# this is the output of the function spectogram_to_mel_matrix \n",
    "# this returns the things that when multiplyed to the spectrogram rows returns the mel frequencies. \n",
    "out2"
   ]
  },
  {
   "cell_type": "code",
   "execution_count": null,
   "metadata": {},
   "outputs": [],
   "source": [
    "out2.shape"
   ]
  },
  {
   "cell_type": "code",
   "execution_count": null,
   "metadata": {},
   "outputs": [],
   "source": [
    "log_mel = mel_features.log_mel_spectrogram(\n",
    "      data,\n",
    "      audio_sample_rate=vggish_params.SAMPLE_RATE,\n",
    "      log_offset=vggish_params.LOG_OFFSET,\n",
    "      window_length_secs=vggish_params.STFT_WINDOW_LENGTH_SECONDS,\n",
    "      hop_length_secs=vggish_params.STFT_HOP_LENGTH_SECONDS,\n",
    "      num_mel_bins=vggish_params.NUM_MEL_BINS,\n",
    "      lower_edge_hertz=vggish_params.MEL_MIN_HZ,\n",
    "      upper_edge_hertz=vggish_params.MEL_MAX_HZ)"
   ]
  },
  {
   "cell_type": "code",
   "execution_count": null,
   "metadata": {},
   "outputs": [],
   "source": [
    "# Convert waveform to a log magnitude mel-frequency spectrogram.\n",
    "# it is the output of the function log_mel_spectrogram with all the default values set in the \n",
    "# vggish_params\n",
    "log_mel"
   ]
  },
  {
   "cell_type": "code",
   "execution_count": null,
   "metadata": {},
   "outputs": [],
   "source": [
    "log_mel.shape"
   ]
  },
  {
   "cell_type": "code",
   "execution_count": null,
   "metadata": {},
   "outputs": [],
   "source": [
    "audio_sample_rate = vggish_params.SAMPLE_RATE\n",
    "log_offset = vggish_params.LOG_OFFSET\n",
    "window_length_secs = vggish_params.STFT_WINDOW_LENGTH_SECONDS\n",
    "hop_length_secs = vggish_params.STFT_HOP_LENGTH_SECONDS\n",
    "num_mel_bins = vggish_params.NUM_MEL_BINS\n",
    "lower_edge_hertz = vggish_params.MEL_MIN_HZ\n",
    "upper_edge_hertz = vggish_params.MEL_MAX_HZ"
   ]
  },
  {
   "cell_type": "code",
   "execution_count": null,
   "metadata": {},
   "outputs": [],
   "source": [
    "window_length_samples = int(round(audio_sample_rate * window_length_secs))\n",
    "hop_length_samples = int(round(audio_sample_rate * hop_length_secs))\n",
    "fft_length = 2 ** int(np.ceil(np.log(window_length_samples) / np.log(2.0)))\n",
    "spectrogram = mel_features.stft_magnitude(\n",
    "  data,\n",
    "  fft_length=fft_length,\n",
    "  hop_length=hop_length_samples,\n",
    "  window_length=window_length_samples)"
   ]
  },
  {
   "cell_type": "code",
   "execution_count": null,
   "metadata": {},
   "outputs": [],
   "source": [
    "spectrogram"
   ]
  },
  {
   "cell_type": "code",
   "execution_count": null,
   "metadata": {},
   "outputs": [],
   "source": [
    "out3 = mel_features.spectrogram_to_mel_matrix(\n",
    "  num_spectrogram_bins=spectrogram.shape[1],\n",
    "  audio_sample_rate=audio_sample_rate)"
   ]
  },
  {
   "cell_type": "code",
   "execution_count": null,
   "metadata": {},
   "outputs": [],
   "source": [
    "out3"
   ]
  },
  {
   "cell_type": "code",
   "execution_count": null,
   "metadata": {},
   "outputs": [],
   "source": [
    "mel_spectrogram = np.dot(spectrogram, mel_features.spectrogram_to_mel_matrix(\n",
    "  num_spectrogram_bins=spectrogram.shape[1],\n",
    "  audio_sample_rate=audio_sample_rate))\n",
    "out4 = np.log(mel_spectrogram + log_offset)"
   ]
  },
  {
   "cell_type": "code",
   "execution_count": null,
   "metadata": {},
   "outputs": [],
   "source": [
    "# this is the putput of the function log_mel_spectrogram which gives me the final \n",
    "# this function basically gives me the frequency sets for the 20 bins or windows specified to it. \n",
    "out4"
   ]
  },
  {
   "cell_type": "code",
   "execution_count": null,
   "metadata": {},
   "outputs": [],
   "source": [
    "out4.shape"
   ]
  },
  {
   "cell_type": "code",
   "execution_count": null,
   "metadata": {},
   "outputs": [],
   "source": [
    "# so this function basically converts given set of frequecis to the mel ones according to the HKV \n",
    "# fourmula \n",
    "out5 = mel_features.hertz_to_mel(fs)"
   ]
  },
  {
   "cell_type": "code",
   "execution_count": null,
   "metadata": {},
   "outputs": [],
   "source": [
    "out5"
   ]
  },
  {
   "cell_type": "code",
   "execution_count": null,
   "metadata": {},
   "outputs": [],
   "source": [
    "# so basically it is difficlt to find the frequencies that are used to plot the mel \n",
    "# so a better thing to do in this case is to find the evely spaced things in the max and the min of the frequencies\n",
    "# and then converting it to the mel frequencies \n",
    "\n",
    "final_freqs = np.linspace(0,125001,64)\n",
    "\n",
    "final_frequencies = mel_features.hertz_to_mel(final_freqs)\n"
   ]
  },
  {
   "cell_type": "code",
   "execution_count": null,
   "metadata": {},
   "outputs": [],
   "source": [
    "final_frequencies"
   ]
  },
  {
   "cell_type": "code",
   "execution_count": null,
   "metadata": {},
   "outputs": [],
   "source": [
    "final_freqs"
   ]
  },
  {
   "cell_type": "code",
   "execution_count": null,
   "metadata": {},
   "outputs": [],
   "source": [
    "#trying to plot the graph with different frequencies \n",
    "final_freqs = np.linspace(0,8000,64)\n",
    "final_freqs"
   ]
  },
  {
   "cell_type": "code",
   "execution_count": null,
   "metadata": {},
   "outputs": [],
   "source": [
    "final_frequencies = mel_features.hertz_to_mel(final_freqs)"
   ]
  },
  {
   "cell_type": "code",
   "execution_count": null,
   "metadata": {},
   "outputs": [],
   "source": [
    "final_frequencies"
   ]
  },
  {
   "cell_type": "code",
   "execution_count": null,
   "metadata": {},
   "outputs": [],
   "source": [
    "print(mel_features._MEL_HIGH_FREQUENCY_Q)"
   ]
  },
  {
   "cell_type": "code",
   "execution_count": null,
   "metadata": {},
   "outputs": [],
   "source": [
    "print(mel_features._MEL_BREAK_FREQUENCY_HERTZ)"
   ]
  },
  {
   "cell_type": "code",
   "execution_count": null,
   "metadata": {},
   "outputs": [],
   "source": [
    "mel_features._MEL_HIGH_FREQUENCY_Q * np.log(\n",
    "      1.0 + (8000 / mel_features._MEL_BREAK_FREQUENCY_HERTZ))"
   ]
  },
  {
   "cell_type": "code",
   "execution_count": null,
   "metadata": {},
   "outputs": [],
   "source": []
  }
 ],
 "metadata": {
  "kernelspec": {
   "display_name": "Python 3",
   "language": "python",
   "name": "python3"
  },
  "language_info": {
   "codemirror_mode": {
    "name": "ipython",
    "version": 3
   },
   "file_extension": ".py",
   "mimetype": "text/x-python",
   "name": "python",
   "nbconvert_exporter": "python",
   "pygments_lexer": "ipython3",
   "version": "3.6.6"
  }
 },
 "nbformat": 4,
 "nbformat_minor": 2
}
