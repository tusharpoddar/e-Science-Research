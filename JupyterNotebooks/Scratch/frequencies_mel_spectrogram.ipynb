{
 "cells": [
  {
   "cell_type": "code",
   "execution_count": 10,
   "metadata": {},
   "outputs": [],
   "source": [
    "from vggish_input import waveform_to_examples, wavfile_to_examples"
   ]
  },
  {
   "cell_type": "code",
   "execution_count": 49,
   "metadata": {},
   "outputs": [],
   "source": [
    "import mel_features\n",
    "import vggish_params\n",
    "import numpy as np"
   ]
  },
  {
   "cell_type": "code",
   "execution_count": 50,
   "metadata": {},
   "outputs": [],
   "source": [
    "from scipy.io import wavfile\n",
    "# code if i wrote the first code\n",
    "fs, data = wavfile.read('tester.wav')"
   ]
  },
  {
   "cell_type": "code",
   "execution_count": 51,
   "metadata": {},
   "outputs": [],
   "source": [
    "out = wavfile_to_examples('tester.wav')"
   ]
  },
  {
   "cell_type": "code",
   "execution_count": 52,
   "metadata": {},
   "outputs": [
    {
     "data": {
      "text/plain": [
       "(60, 96, 64)"
      ]
     },
     "execution_count": 52,
     "metadata": {},
     "output_type": "execute_result"
    }
   ],
   "source": [
    "out.shape"
   ]
  },
  {
   "cell_type": "code",
   "execution_count": 64,
   "metadata": {},
   "outputs": [],
   "source": [
    "out2 = spectrogram_to_mel_matrix()"
   ]
  },
  {
   "cell_type": "markdown",
   "metadata": {},
   "source": [
    "out2"
   ]
  },
  {
   "cell_type": "code",
   "execution_count": 66,
   "metadata": {},
   "outputs": [
    {
     "data": {
      "text/plain": [
       "array([[0., 0., 0., ..., 0., 0., 0.],\n",
       "       [0., 0., 0., ..., 0., 0., 0.],\n",
       "       [0., 0., 0., ..., 0., 0., 0.],\n",
       "       ...,\n",
       "       [0., 0., 0., ..., 0., 0., 0.],\n",
       "       [0., 0., 0., ..., 0., 0., 0.],\n",
       "       [0., 0., 0., ..., 0., 0., 0.]])"
      ]
     },
     "execution_count": 66,
     "metadata": {},
     "output_type": "execute_result"
    }
   ],
   "source": [
    "# this is the output of the function spectogram_to_mel_matrix \n",
    "# this returns the things that when multiplyed to the spectrogram rows returns the mel frequencies. \n",
    "out2"
   ]
  },
  {
   "cell_type": "code",
   "execution_count": 55,
   "metadata": {},
   "outputs": [
    {
     "data": {
      "text/plain": [
       "(129, 20)"
      ]
     },
     "execution_count": 55,
     "metadata": {},
     "output_type": "execute_result"
    }
   ],
   "source": [
    "out2.shape"
   ]
  },
  {
   "cell_type": "code",
   "execution_count": 56,
   "metadata": {},
   "outputs": [],
   "source": [
    "log_mel = mel_features.log_mel_spectrogram(\n",
    "      data,\n",
    "      audio_sample_rate=vggish_params.SAMPLE_RATE,\n",
    "      log_offset=vggish_params.LOG_OFFSET,\n",
    "      window_length_secs=vggish_params.STFT_WINDOW_LENGTH_SECONDS,\n",
    "      hop_length_secs=vggish_params.STFT_HOP_LENGTH_SECONDS,\n",
    "      num_mel_bins=vggish_params.NUM_MEL_BINS,\n",
    "      lower_edge_hertz=vggish_params.MEL_MIN_HZ,\n",
    "      upper_edge_hertz=vggish_params.MEL_MAX_HZ)"
   ]
  },
  {
   "cell_type": "code",
   "execution_count": 57,
   "metadata": {},
   "outputs": [
    {
     "data": {
      "text/plain": [
       "array([[-0.27557773, -1.76160742, -0.73949844, ...,  5.67429201,\n",
       "         5.69911036,  5.72045365],\n",
       "       [-1.6658181 , -0.26183987,  0.07214821, ...,  6.05859627,\n",
       "         5.58864523,  6.15681301],\n",
       "       [-0.57573858, -0.22186723, -0.44570719, ...,  5.4817578 ,\n",
       "         5.5764798 ,  5.92166707],\n",
       "       ...,\n",
       "       [ 5.4403983 ,  6.70652481,  6.75729466, ..., 10.28657083,\n",
       "        10.55407061, 10.26884819],\n",
       "       [ 7.35942218,  6.79766863,  7.02358122, ..., 10.21173596,\n",
       "        10.62168468, 10.48802175],\n",
       "       [ 7.81289068,  7.71500035,  7.62591333, ..., 10.76397119,\n",
       "        10.66253467, 10.86635603]])"
      ]
     },
     "execution_count": 57,
     "metadata": {},
     "output_type": "execute_result"
    }
   ],
   "source": [
    "# Convert waveform to a log magnitude mel-frequency spectrogram.\n",
    "# it is the output of the function log_mel_spectrogram with all the default values set in the \n",
    "# vggish_params\n",
    "log_mel"
   ]
  },
  {
   "cell_type": "code",
   "execution_count": 58,
   "metadata": {},
   "outputs": [
    {
     "data": {
      "text/plain": [
       "(91242, 64)"
      ]
     },
     "execution_count": 58,
     "metadata": {},
     "output_type": "execute_result"
    }
   ],
   "source": [
    "log_mel.shape"
   ]
  },
  {
   "cell_type": "code",
   "execution_count": 59,
   "metadata": {},
   "outputs": [],
   "source": [
    "audio_sample_rate = vggish_params.SAMPLE_RATE\n",
    "log_offset = vggish_params.LOG_OFFSET\n",
    "window_length_secs = vggish_params.STFT_WINDOW_LENGTH_SECONDS\n",
    "hop_length_secs = vggish_params.STFT_HOP_LENGTH_SECONDS\n",
    "num_mel_bins = vggish_params.NUM_MEL_BINS\n",
    "lower_edge_hertz = vggish_params.MEL_MIN_HZ\n",
    "upper_edge_hertz = vggish_params.MEL_MAX_HZ"
   ]
  },
  {
   "cell_type": "code",
   "execution_count": 61,
   "metadata": {},
   "outputs": [],
   "source": [
    "window_length_samples = int(round(audio_sample_rate * window_length_secs))\n",
    "hop_length_samples = int(round(audio_sample_rate * hop_length_secs))\n",
    "fft_length = 2 ** int(np.ceil(np.log(window_length_samples) / np.log(2.0)))\n",
    "spectrogram = mel_features.stft_magnitude(\n",
    "  data,\n",
    "  fft_length=fft_length,\n",
    "  hop_length=hop_length_samples,\n",
    "  window_length=window_length_samples)"
   ]
  },
  {
   "cell_type": "code",
   "execution_count": 71,
   "metadata": {},
   "outputs": [
    {
     "data": {
      "text/plain": [
       "array([[8.60813416e-01, 5.42563873e-01, 1.58312082e-01, ...,\n",
       "        5.72768742e+01, 1.10017659e+02, 1.56208602e+02],\n",
       "       [2.17604711e-01, 5.03624093e-01, 6.54539601e-01, ...,\n",
       "        7.44196857e+01, 6.72284240e+01, 8.67289063e+01],\n",
       "       [1.75819256e+00, 1.44518033e+00, 6.43957530e-01, ...,\n",
       "        1.06189710e+02, 9.35090550e+01, 8.83931108e+01],\n",
       "       ...,\n",
       "       [2.12209092e+03, 1.54657527e+03, 7.47913958e+02, ...,\n",
       "        1.41248567e+03, 9.99595683e+02, 7.53036701e+02],\n",
       "       [2.02666709e+03, 1.50241378e+03, 1.53997994e+03, ...,\n",
       "        1.21658183e+03, 1.17161810e+03, 2.46944520e+02],\n",
       "       [1.91660953e+03, 6.41451760e+02, 1.39245630e+03, ...,\n",
       "        6.61934027e+02, 1.37606691e+03, 1.71006532e+03]])"
      ]
     },
     "execution_count": 71,
     "metadata": {},
     "output_type": "execute_result"
    }
   ],
   "source": [
    "spectrogram"
   ]
  },
  {
   "cell_type": "code",
   "execution_count": 69,
   "metadata": {},
   "outputs": [],
   "source": [
    "out3 = mel_features.spectrogram_to_mel_matrix(\n",
    "  num_spectrogram_bins=spectrogram.shape[1],\n",
    "  audio_sample_rate=audio_sample_rate)"
   ]
  },
  {
   "cell_type": "code",
   "execution_count": 70,
   "metadata": {},
   "outputs": [
    {
     "data": {
      "text/plain": [
       "array([[0., 0., 0., ..., 0., 0., 0.],\n",
       "       [0., 0., 0., ..., 0., 0., 0.],\n",
       "       [0., 0., 0., ..., 0., 0., 0.],\n",
       "       ...,\n",
       "       [0., 0., 0., ..., 0., 0., 0.],\n",
       "       [0., 0., 0., ..., 0., 0., 0.],\n",
       "       [0., 0., 0., ..., 0., 0., 0.]])"
      ]
     },
     "execution_count": 70,
     "metadata": {},
     "output_type": "execute_result"
    }
   ],
   "source": [
    "out3"
   ]
  },
  {
   "cell_type": "code",
   "execution_count": 73,
   "metadata": {},
   "outputs": [],
   "source": [
    "mel_spectrogram = np.dot(spectrogram, mel_features.spectrogram_to_mel_matrix(\n",
    "  num_spectrogram_bins=spectrogram.shape[1],\n",
    "  audio_sample_rate=audio_sample_rate))\n",
    "out4 = np.log(mel_spectrogram + log_offset)"
   ]
  },
  {
   "cell_type": "code",
   "execution_count": 74,
   "metadata": {},
   "outputs": [
    {
     "data": {
      "text/plain": [
       "array([[ 0.04036001,  1.28598483,  1.27634565, ...,  3.6582319 ,\n",
       "         4.30877001,  4.10539642],\n",
       "       [ 0.59529856,  0.89597388,  0.51989108, ...,  3.53544929,\n",
       "         3.93804777,  4.29369399],\n",
       "       [ 0.39974866,  0.42423455,  0.85056843, ...,  3.52841536,\n",
       "         3.63124529,  4.21481369],\n",
       "       ...,\n",
       "       [ 7.55867075,  8.25282515,  9.05141303, ..., 10.9386666 ,\n",
       "        11.23663871, 10.93751383],\n",
       "       [ 7.94853074,  8.54028604,  9.16722208, ..., 10.82000508,\n",
       "        10.73294982, 10.85359564],\n",
       "       [ 8.49011784,  7.78180419,  9.13201074, ..., 10.75516349,\n",
       "        10.92866097, 10.75284771]])"
      ]
     },
     "execution_count": 74,
     "metadata": {},
     "output_type": "execute_result"
    }
   ],
   "source": [
    "# this is the putput of the function log_mel_spectrogram which gives me the final \n",
    "# this function basically gives me the frequency sets for the 20 bins or windows specified to it. \n",
    "out4"
   ]
  },
  {
   "cell_type": "code",
   "execution_count": 75,
   "metadata": {},
   "outputs": [
    {
     "data": {
      "text/plain": [
       "(91242, 20)"
      ]
     },
     "execution_count": 75,
     "metadata": {},
     "output_type": "execute_result"
    }
   ],
   "source": [
    "out4.shape"
   ]
  },
  {
   "cell_type": "code",
   "execution_count": 76,
   "metadata": {},
   "outputs": [],
   "source": [
    "# so this function basically converts given set of frequecis to the mel ones according to the HKV \n",
    "# fourmula \n",
    "out5 = mel_features.hertz_to_mel(fs)"
   ]
  },
  {
   "cell_type": "code",
   "execution_count": 77,
   "metadata": {},
   "outputs": [
    {
     "data": {
      "text/plain": [
       "6627.8103066390595"
      ]
     },
     "execution_count": 77,
     "metadata": {},
     "output_type": "execute_result"
    }
   ],
   "source": [
    "out5"
   ]
  },
  {
   "cell_type": "code",
   "execution_count": 78,
   "metadata": {},
   "outputs": [],
   "source": [
    "# so basically it is difficlt to find the frequencies that are used to plot the mel \n",
    "# so a better thing to do in this case is to find the evely spaced things in the max and the min of the frequencies\n",
    "# and then converting it to the mel frequencies \n",
    "\n",
    "final_freqs = np.linspace(0,125001,64)\n",
    "final_frequencies = mel_features.hertz_to_mel(final_freqs)\n"
   ]
  },
  {
   "cell_type": "code",
   "execution_count": 79,
   "metadata": {},
   "outputs": [
    {
     "data": {
      "text/plain": [
       "array([   0.        , 1514.72900826, 2138.44515516, 2537.61736084,\n",
       "       2831.79106167, 3064.85533047, 3257.88333188, 3422.63449506,\n",
       "       3566.34464939, 3693.78466869, 3808.26677121, 3912.18453245,\n",
       "       4007.32403388, 4095.05350033, 4176.44426732, 4252.35091293,\n",
       "       4323.46605541, 4390.35885877, 4453.50273441, 4513.29568377,\n",
       "       4570.07551017, 4624.13137832, 4675.71272593, 4725.03622334,\n",
       "       4772.29127286, 4817.64440076, 4861.24279904, 4903.21720735,\n",
       "       4943.68427704, 4982.74852542, 5020.50396236, 5057.03545323,\n",
       "       5092.41986774, 5126.72705388, 5160.02066787, 5192.35888507,\n",
       "       5223.79501168, 5254.37801339, 5284.15297421, 5313.16149621,\n",
       "       5341.44204909, 5369.03027696, 5395.95926849, 5422.25979544,\n",
       "       5447.96052408, 5473.08820302, 5497.66783048, 5521.7228038 ,\n",
       "       5545.27505326, 5568.34516222, 5590.95247525, 5613.11519553,\n",
       "       5634.85047296, 5656.17448385, 5677.10250327, 5697.64897078,\n",
       "       5717.82755027, 5737.65118452, 5757.13214511, 5776.282078  ,\n",
       "       5795.11204536, 5813.63256398, 5831.85364048, 5849.78480385])"
      ]
     },
     "execution_count": 79,
     "metadata": {},
     "output_type": "execute_result"
    }
   ],
   "source": [
    "final_frequencies"
   ]
  },
  {
   "cell_type": "code",
   "execution_count": 80,
   "metadata": {},
   "outputs": [
    {
     "data": {
      "text/plain": [
       "array([     0.        ,   1984.14285714,   3968.28571429,   5952.42857143,\n",
       "         7936.57142857,   9920.71428571,  11904.85714286,  13889.        ,\n",
       "        15873.14285714,  17857.28571429,  19841.42857143,  21825.57142857,\n",
       "        23809.71428571,  25793.85714286,  27778.        ,  29762.14285714,\n",
       "        31746.28571429,  33730.42857143,  35714.57142857,  37698.71428571,\n",
       "        39682.85714286,  41667.        ,  43651.14285714,  45635.28571429,\n",
       "        47619.42857143,  49603.57142857,  51587.71428571,  53571.85714286,\n",
       "        55556.        ,  57540.14285714,  59524.28571429,  61508.42857143,\n",
       "        63492.57142857,  65476.71428571,  67460.85714286,  69445.        ,\n",
       "        71429.14285714,  73413.28571429,  75397.42857143,  77381.57142857,\n",
       "        79365.71428571,  81349.85714286,  83334.        ,  85318.14285714,\n",
       "        87302.28571429,  89286.42857143,  91270.57142857,  93254.71428571,\n",
       "        95238.85714286,  97223.        ,  99207.14285714, 101191.28571429,\n",
       "       103175.42857143, 105159.57142857, 107143.71428571, 109127.85714286,\n",
       "       111112.        , 113096.14285714, 115080.28571429, 117064.42857143,\n",
       "       119048.57142857, 121032.71428571, 123016.85714286, 125001.        ])"
      ]
     },
     "execution_count": 80,
     "metadata": {},
     "output_type": "execute_result"
    }
   ],
   "source": [
    "final_freqs"
   ]
  },
  {
   "cell_type": "code",
   "execution_count": null,
   "metadata": {},
   "outputs": [],
   "source": []
  }
 ],
 "metadata": {
  "kernelspec": {
   "display_name": "Python 3",
   "language": "python",
   "name": "python3"
  },
  "language_info": {
   "codemirror_mode": {
    "name": "ipython",
    "version": 3
   },
   "file_extension": ".py",
   "mimetype": "text/x-python",
   "name": "python",
   "nbconvert_exporter": "python",
   "pygments_lexer": "ipython3",
   "version": "3.6.6"
  }
 },
 "nbformat": 4,
 "nbformat_minor": 2
}
