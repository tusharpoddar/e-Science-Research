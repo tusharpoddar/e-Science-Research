{
 "cells": [
  {
   "cell_type": "markdown",
   "metadata": {},
   "source": [
    "## The file can be used to understand how the VGGISH model makes the mel Spectrogram. \n",
    "\n",
    "In the following file I try to feed in a wav file and test all the functions of the file vggish_input and mel_features. This is done in an attempt to understand how the model converts all the data to the mel spectrogram. In order to make changes to the vggish_model complete understanding of the code is needed."
   ]
  },
  {
   "cell_type": "code",
   "execution_count": 1,
   "metadata": {},
   "outputs": [],
   "source": [
    "from vggish_input import waveform_to_examples, wavfile_to_examples"
   ]
  },
  {
   "cell_type": "code",
   "execution_count": 2,
   "metadata": {},
   "outputs": [],
   "source": [
    "# These are the constants defined in the vggish model. These constants are used to make the whole vggish model\n",
    "# more general and reusable. \n",
    "\n",
    "# Architectural constants.\n",
    "NUM_FRAMES = 96  # Frames in input mel-spectrogram patch.\n",
    "NUM_BANDS = 64  # Frequency bands in input mel-spectrogram patch.\n",
    "EMBEDDING_SIZE = 128  # Size of embedding layer.\n",
    "\n",
    "# Hyperparameters used in feature and example generation.\n",
    "SAMPLE_RATE = 16000\n",
    "STFT_WINDOW_LENGTH_SECONDS = 0.025\n",
    "STFT_HOP_LENGTH_SECONDS = 0.010\n",
    "NUM_MEL_BINS = NUM_BANDS\n",
    "MEL_MIN_HZ = 125\n",
    "MEL_MAX_HZ = 7500\n",
    "LOG_OFFSET = 0.01  # Offset used for stabilized log of input mel-spectrogram.\n",
    "EXAMPLE_WINDOW_SECONDS = 0.96  # Each example contains 96 10ms frames\n",
    "EXAMPLE_HOP_SECONDS = 0.96     # with zero overlap.\n",
    "\n",
    "# Parameters used for embedding postprocessing.\n",
    "PCA_EIGEN_VECTORS_NAME = 'pca_eigen_vectors'\n",
    "PCA_MEANS_NAME = 'pca_means'\n",
    "QUANTIZE_MIN_VAL = -2.0\n",
    "QUANTIZE_MAX_VAL = +2.0\n",
    "\n",
    "# Hyperparameters used in training.\n",
    "INIT_STDDEV = 0.01  # Standard deviation used to initialize weights.\n",
    "LEARNING_RATE = 1e-4  # Learning rate for the Adam optimizer.\n",
    "ADAM_EPSILON = 1e-8  # Epsilon for the Adam optimizer.\n",
    "\n",
    "# Names of ops, tensors, and features.\n",
    "INPUT_OP_NAME = 'vggish/input_features'\n",
    "INPUT_TENSOR_NAME = INPUT_OP_NAME + ':0'\n",
    "OUTPUT_OP_NAME = 'vggish/embedding'\n",
    "OUTPUT_TENSOR_NAME = OUTPUT_OP_NAME + ':0'\n",
    "AUDIO_EMBEDDING_FEATURE_NAME = 'audio_embedding'\n"
   ]
  },
  {
   "cell_type": "code",
   "execution_count": 3,
   "metadata": {},
   "outputs": [],
   "source": [
    "import mel_features\n",
    "import mel_features\n",
    "import vggish_params\n",
    "import numpy as np"
   ]
  },
  {
   "cell_type": "code",
   "execution_count": 4,
   "metadata": {},
   "outputs": [
    {
     "data": {
      "text/plain": [
       "(14598982,)"
      ]
     },
     "execution_count": 4,
     "metadata": {},
     "output_type": "execute_result"
    }
   ],
   "source": [
    "from scipy.io import wavfile\n",
    "\n",
    "fs, data = wavfile.read('tester.wav')\n",
    "data.shape"
   ]
  },
  {
   "cell_type": "code",
   "execution_count": 5,
   "metadata": {},
   "outputs": [
    {
     "name": "stdout",
     "output_type": "stream",
     "text": [
      "250000\n"
     ]
    }
   ],
   "source": [
    "print(fs)"
   ]
  },
  {
   "cell_type": "code",
   "execution_count": 7,
   "metadata": {},
   "outputs": [
    {
     "name": "stdout",
     "output_type": "stream",
     "text": [
      "250000\n",
      "fft_length2048\n",
      "num_samples14598982\n",
      "num_frames23356\n",
      "shape(23356, 1562)\n",
      "strides(5000, 8)\n",
      "(23356, 1562)\n",
      "(23356, 1562)\n",
      "sfft_mangnitute return thing shape (23356, 1025)\n",
      "Num mel bins64\n",
      "Hi 3\n",
      "Hi 4\n",
      "num_samples23356\n",
      "num_frames243\n",
      "shape(243, 96, 64)\n",
      "strides(49152, 512, 8)\n"
     ]
    },
    {
     "data": {
      "text/plain": [
       "(243, 96, 64)"
      ]
     },
     "execution_count": 7,
     "metadata": {},
     "output_type": "execute_result"
    }
   ],
   "source": [
    "# this is the normal conventional method of looking at data\n",
    "# the main problem that we get in here while working with the normal function and manually typing ours is that when\n",
    "# the sampling frequency of the wav file that we get is not equal to the sampling frequency that the VGGish\n",
    "# model has specified then the vggish model resamples the data and we might lose some of the data in that process. \n",
    "\n",
    "vggish_spectrogram_data = wavfile_to_examples('tester.wav')\n",
    "vggish_spectrogram_data.shape"
   ]
  },
  {
   "cell_type": "code",
   "execution_count": 8,
   "metadata": {},
   "outputs": [
    {
     "data": {
      "text/plain": [
       "<matplotlib.image.AxesImage at 0x1c2c434e80>"
      ]
     },
     "execution_count": 8,
     "metadata": {},
     "output_type": "execute_result"
    }
   ],
   "source": [
    "import matplotlib.pyplot as plt\n",
    "plt.imshow(vggish_spectrogram_data[1][:90,:].T)"
   ]
  },
  {
   "cell_type": "code",
   "execution_count": 9,
   "metadata": {},
   "outputs": [
    {
     "data": {
      "text/plain": [
       "(243, 96, 64)"
      ]
     },
     "execution_count": 9,
     "metadata": {},
     "output_type": "execute_result"
    }
   ],
   "source": [
    "vggish_spectrogram_data.shape"
   ]
  },
  {
   "cell_type": "code",
   "execution_count": 10,
   "metadata": {},
   "outputs": [
    {
     "name": "stdout",
     "output_type": "stream",
     "text": [
      "Num mel bins20\n"
     ]
    },
    {
     "data": {
      "text/plain": [
       "(129, 20)"
      ]
     },
     "execution_count": 10,
     "metadata": {},
     "output_type": "execute_result"
    }
   ],
   "source": [
    "vggish_mel_matrix = mel_features.spectrogram_to_mel_matrix()\n",
    "vggish_mel_matrix.shape"
   ]
  },
  {
   "cell_type": "code",
   "execution_count": 11,
   "metadata": {},
   "outputs": [
    {
     "name": "stdout",
     "output_type": "stream",
     "text": [
      "fft_length2048\n",
      "num_samples14598982\n",
      "num_frames23356\n",
      "shape(23356, 1562)\n",
      "strides(1250, 2)\n",
      "(23356, 1562)\n",
      "(23356, 1562)\n",
      "sfft_mangnitute return thing shape (23356, 1025)\n",
      "Num mel bins64\n"
     ]
    }
   ],
   "source": [
    "# doing the calculations anf the computaion on our own\n",
    "log_mel = mel_features.log_mel_spectrogram(\n",
    "      data,\n",
    "      audio_sample_rate=vggish_params.SAMPLE_RATE,\n",
    "      log_offset=vggish_params.LOG_OFFSET,\n",
    "      window_length_secs=vggish_params.STFT_WINDOW_LENGTH_SECONDS,\n",
    "      hop_length_secs=vggish_params.STFT_HOP_LENGTH_SECONDS,\n",
    "      num_mel_bins=vggish_params.NUM_MEL_BINS,\n",
    "      lower_edge_hertz=vggish_params.MEL_MIN_HZ,\n",
    "      upper_edge_hertz=vggish_params.MEL_MAX_HZ)"
   ]
  },
  {
   "cell_type": "code",
   "execution_count": 12,
   "metadata": {},
   "outputs": [
    {
     "name": "stdout",
     "output_type": "stream",
     "text": [
      "num_samples23356\n",
      "num_frames243\n",
      "shape(243, 96, 64)\n",
      "strides(49152, 512, 8)\n"
     ]
    }
   ],
   "source": [
    "features_sample_rate = 1.0 / vggish_params.STFT_HOP_LENGTH_SECONDS\n",
    "\n",
    "example_window_length = int(round(\n",
    "      vggish_params.EXAMPLE_WINDOW_SECONDS * features_sample_rate))\n",
    "\n",
    "example_hop_length = int(round(\n",
    "      vggish_params.EXAMPLE_HOP_SECONDS * features_sample_rate))\n",
    "\n",
    "log_mel_examples = mel_features.frame(\n",
    "      log_mel,\n",
    "      window_length=example_window_length,\n",
    "      hop_length=example_hop_length)"
   ]
  },
  {
   "cell_type": "code",
   "execution_count": 13,
   "metadata": {},
   "outputs": [
    {
     "data": {
      "text/plain": [
       "(243, 96, 64)"
      ]
     },
     "execution_count": 13,
     "metadata": {},
     "output_type": "execute_result"
    }
   ],
   "source": [
    "# it is a 2d array from before only and hence it is easy to plot it in the original form\n",
    "log_mel_examples.shape\n",
    "# plt.imshow(log_mel_examples[50][:90,:].T)"
   ]
  },
  {
   "cell_type": "code",
   "execution_count": 14,
   "metadata": {},
   "outputs": [
    {
     "data": {
      "text/plain": [
       "125"
      ]
     },
     "execution_count": 14,
     "metadata": {},
     "output_type": "execute_result"
    }
   ],
   "source": [
    "vggish_params.MEL_MIN_HZ"
   ]
  },
  {
   "cell_type": "code",
   "execution_count": 15,
   "metadata": {},
   "outputs": [
    {
     "data": {
      "text/plain": [
       "array([[0., 0., 0., ..., 0., 0., 0.],\n",
       "       [0., 0., 0., ..., 0., 0., 0.],\n",
       "       [0., 0., 0., ..., 0., 0., 0.],\n",
       "       ...,\n",
       "       [0., 0., 0., ..., 0., 0., 0.],\n",
       "       [0., 0., 0., ..., 0., 0., 0.],\n",
       "       [0., 0., 0., ..., 0., 0., 0.]])"
      ]
     },
     "execution_count": 15,
     "metadata": {},
     "output_type": "execute_result"
    }
   ],
   "source": [
    "# this is the output of the function spectogram_to_mel_matrix \n",
    "# this returns the things that when multiplyed to the spectrogram rows returns the mel frequencies. \n",
    "vggish_mel_matrix"
   ]
  },
  {
   "cell_type": "code",
   "execution_count": 16,
   "metadata": {},
   "outputs": [
    {
     "data": {
      "text/plain": [
       "(129, 20)"
      ]
     },
     "execution_count": 16,
     "metadata": {},
     "output_type": "execute_result"
    }
   ],
   "source": [
    "vggish_mel_matrix.shape"
   ]
  },
  {
   "cell_type": "code",
   "execution_count": 17,
   "metadata": {},
   "outputs": [
    {
     "name": "stdout",
     "output_type": "stream",
     "text": [
      "fft_length2048\n",
      "num_samples14598982\n",
      "num_frames23356\n",
      "shape(23356, 1562)\n",
      "strides(1250, 2)\n",
      "(23356, 1562)\n",
      "(23356, 1562)\n",
      "sfft_mangnitute return thing shape (23356, 1025)\n",
      "Num mel bins64\n"
     ]
    }
   ],
   "source": [
    "log_mel = mel_features.log_mel_spectrogram(\n",
    "      data,\n",
    "      audio_sample_rate=vggish_params.SAMPLE_RATE,\n",
    "      log_offset=vggish_params.LOG_OFFSET,\n",
    "      window_length_secs=vggish_params.STFT_WINDOW_LENGTH_SECONDS,\n",
    "      hop_length_secs=vggish_params.STFT_HOP_LENGTH_SECONDS,\n",
    "      num_mel_bins=vggish_params.NUM_MEL_BINS,\n",
    "      lower_edge_hertz=vggish_params.MEL_MIN_HZ,\n",
    "      upper_edge_hertz=vggish_params.MEL_MAX_HZ)"
   ]
  },
  {
   "cell_type": "code",
   "execution_count": 18,
   "metadata": {},
   "outputs": [
    {
     "data": {
      "text/plain": [
       "array([[-4.60517019e+00,  4.12257316e-02, -2.60327985e-01, ...,\n",
       "         2.34600797e+00,  2.91223380e+00,  3.18694840e+00],\n",
       "       [-4.60517019e+00,  1.81355435e-02, -2.83338519e-01, ...,\n",
       "         2.35884054e+00,  2.56791689e+00,  3.05307805e+00],\n",
       "       [-4.60517019e+00,  3.05837822e-01,  3.49094283e-03, ...,\n",
       "         2.22386920e+00,  2.65608219e+00,  3.10463493e+00],\n",
       "       ...,\n",
       "       [-4.60517019e+00,  6.55190780e+00,  6.24694319e+00, ...,\n",
       "         1.15817707e+01,  1.18374610e+01,  1.18577883e+01],\n",
       "       [-4.60517019e+00,  6.27677907e+00,  5.97181607e+00, ...,\n",
       "         1.21840830e+01,  1.18757847e+01,  1.19767618e+01],\n",
       "       [-4.60517019e+00,  6.11815986e+00,  5.81319802e+00, ...,\n",
       "         1.16924595e+01,  1.20798157e+01,  1.21290344e+01]])"
      ]
     },
     "execution_count": 18,
     "metadata": {},
     "output_type": "execute_result"
    }
   ],
   "source": [
    "# Convert waveform to a log magnitude mel-frequency spectrogram.\n",
    "# it is the output of the function log_mel_spectrogram with all the default values set in the \n",
    "# vggish_params\n",
    "log_mel"
   ]
  },
  {
   "cell_type": "code",
   "execution_count": 19,
   "metadata": {},
   "outputs": [
    {
     "data": {
      "text/plain": [
       "(23356, 64)"
      ]
     },
     "execution_count": 19,
     "metadata": {},
     "output_type": "execute_result"
    }
   ],
   "source": [
    "log_mel.shape"
   ]
  },
  {
   "cell_type": "code",
   "execution_count": 20,
   "metadata": {},
   "outputs": [],
   "source": [
    "audio_sample_rate = vggish_params.SAMPLE_RATE\n",
    "log_offset = vggish_params.LOG_OFFSET\n",
    "window_length_secs = vggish_params.STFT_WINDOW_LENGTH_SECONDS\n",
    "hop_length_secs = vggish_params.STFT_HOP_LENGTH_SECONDS\n",
    "num_mel_bins = vggish_params.NUM_MEL_BINS\n",
    "lower_edge_hertz = vggish_params.MEL_MIN_HZ\n",
    "upper_edge_hertz = vggish_params.MEL_MAX_HZ"
   ]
  },
  {
   "cell_type": "code",
   "execution_count": 21,
   "metadata": {},
   "outputs": [
    {
     "name": "stdout",
     "output_type": "stream",
     "text": [
      "num_samples14598982\n",
      "num_frames23356\n",
      "shape(23356, 1562)\n",
      "strides(1250, 2)\n",
      "(23356, 1562)\n",
      "(23356, 1562)\n"
     ]
    }
   ],
   "source": [
    "window_length_samples = int(round(audio_sample_rate * window_length_secs))\n",
    "hop_length_samples = int(round(audio_sample_rate * hop_length_secs))\n",
    "fft_length = 2 ** int(np.ceil(np.log(window_length_samples) / np.log(2.0)))\n",
    "spectrogram = mel_features.stft_magnitude(\n",
    "  data,\n",
    "  fft_length=fft_length,\n",
    "  hop_length=hop_length_samples,\n",
    "  window_length=window_length_samples)"
   ]
  },
  {
   "cell_type": "code",
   "execution_count": 22,
   "metadata": {},
   "outputs": [
    {
     "data": {
      "text/plain": [
       "array([[3.36784690e+00, 2.87676021e+00, 1.79288605e+00, ...,\n",
       "        1.03619537e+01, 1.19902701e+02, 8.23935787e+01],\n",
       "       [1.79676958e+00, 2.07057333e+00, 1.75156574e+00, ...,\n",
       "        1.78019618e+02, 2.15259209e+02, 2.11680873e+02],\n",
       "       [2.40631295e+00, 2.41765787e+00, 2.34125913e+00, ...,\n",
       "        1.22992238e+02, 1.00755308e+02, 5.85923589e+01],\n",
       "       ...,\n",
       "       [6.72202267e+03, 4.60661114e+03, 1.21699124e+03, ...,\n",
       "        1.28795190e+03, 2.31108228e+03, 2.74121151e+03],\n",
       "       [6.65873115e+03, 4.46425450e+03, 9.24269451e+02, ...,\n",
       "        2.01286327e+03, 1.87433210e+03, 2.31111821e+03],\n",
       "       [6.89395688e+03, 4.58291163e+03, 7.88696202e+02, ...,\n",
       "        2.18118862e+03, 1.36512099e+03, 1.82521190e+03]])"
      ]
     },
     "execution_count": 22,
     "metadata": {},
     "output_type": "execute_result"
    }
   ],
   "source": [
    "spectrogram"
   ]
  },
  {
   "cell_type": "code",
   "execution_count": 24,
   "metadata": {},
   "outputs": [
    {
     "name": "stdout",
     "output_type": "stream",
     "text": [
      "Num mel bins20\n"
     ]
    }
   ],
   "source": [
    "vggish_matrix_function_call = mel_features.spectrogram_to_mel_matrix(\n",
    "  num_spectrogram_bins=spectrogram.shape[1],\n",
    "  audio_sample_rate=audio_sample_rate)"
   ]
  },
  {
   "cell_type": "code",
   "execution_count": 25,
   "metadata": {},
   "outputs": [
    {
     "data": {
      "text/plain": [
       "array([[0.        , 0.        , 0.        , ..., 0.        , 0.        ,\n",
       "        0.        ],\n",
       "       [0.        , 0.        , 0.        , ..., 0.        , 0.        ,\n",
       "        0.        ],\n",
       "       [0.33020269, 0.66979731, 0.        , ..., 0.        , 0.        ,\n",
       "        0.        ],\n",
       "       ...,\n",
       "       [0.        , 0.        , 0.        , ..., 0.        , 0.        ,\n",
       "        0.        ],\n",
       "       [0.        , 0.        , 0.        , ..., 0.        , 0.        ,\n",
       "        0.        ],\n",
       "       [0.        , 0.        , 0.        , ..., 0.        , 0.        ,\n",
       "        0.        ]])"
      ]
     },
     "execution_count": 25,
     "metadata": {},
     "output_type": "execute_result"
    }
   ],
   "source": [
    "vggish_matrix_function_call"
   ]
  },
  {
   "cell_type": "code",
   "execution_count": 29,
   "metadata": {},
   "outputs": [
    {
     "name": "stdout",
     "output_type": "stream",
     "text": [
      "Num mel bins20\n"
     ]
    }
   ],
   "source": [
    "mel_spectrogram = np.dot(spectrogram, mel_features.spectrogram_to_mel_matrix(\n",
    "  num_spectrogram_bins=spectrogram.shape[1],\n",
    "  audio_sample_rate=audio_sample_rate))\n",
    "\n",
    "log_spectrogram = np.log(mel_spectrogram + log_offset)"
   ]
  },
  {
   "cell_type": "code",
   "execution_count": 30,
   "metadata": {},
   "outputs": [
    {
     "data": {
      "text/plain": [
       "array([[-0.50747158,  0.19133931, -0.06603049, ...,  1.05802784,\n",
       "         1.42566213,  1.36976538],\n",
       "       [-0.53039634,  0.16821757,  0.47505442, ...,  0.92719236,\n",
       "         1.23455277,  0.99082727],\n",
       "       [-0.24450755,  0.45626535,  0.44533956, ...,  1.92971341,\n",
       "         1.05336681,  1.79702693],\n",
       "       ...,\n",
       "       [ 5.99611319,  6.70336902,  5.89689741, ...,  9.05153488,\n",
       "         9.23293693,  9.30378973],\n",
       "       [ 5.72098782,  6.42823965,  6.0977991 , ...,  9.604684  ,\n",
       "         9.60613647,  9.27792826],\n",
       "       [ 5.56237101,  6.26961999,  6.53442616, ...,  9.0614865 ,\n",
       "         8.93144538,  9.43334736]])"
      ]
     },
     "execution_count": 30,
     "metadata": {},
     "output_type": "execute_result"
    }
   ],
   "source": [
    "# this is the output of the function log_mel_spectrogram which gives me the final \n",
    "# this function basically gives me the frequency sets for the 20 bins or windows specified to it. \n",
    "log_spectrogram"
   ]
  },
  {
   "cell_type": "code",
   "execution_count": 31,
   "metadata": {},
   "outputs": [
    {
     "data": {
      "text/plain": [
       "(23356, 20)"
      ]
     },
     "execution_count": 31,
     "metadata": {},
     "output_type": "execute_result"
    }
   ],
   "source": [
    "log_spectrogram.shape"
   ]
  },
  {
   "cell_type": "code",
   "execution_count": 32,
   "metadata": {},
   "outputs": [],
   "source": [
    "# so this function basically converts given set of frequencies to the mel ones according to the HKV \n",
    "# formula \n",
    "frequencies_to_mel = mel_features.hertz_to_mel(fs)"
   ]
  },
  {
   "cell_type": "code",
   "execution_count": 33,
   "metadata": {},
   "outputs": [
    {
     "data": {
      "text/plain": [
       "6627.8103066390595"
      ]
     },
     "execution_count": 33,
     "metadata": {},
     "output_type": "execute_result"
    }
   ],
   "source": [
    "frequencies_to_mel"
   ]
  },
  {
   "cell_type": "code",
   "execution_count": 34,
   "metadata": {},
   "outputs": [],
   "source": [
    "# so basically it is difficult to find the frequencies that are used to plot the mel \n",
    "# so a better thing to do in this case is to find the evenly spaced things in the max and the min of the frequencies\n",
    "# and then converting it to the mel frequencies \n",
    "\n",
    "final_freqs = np.linspace(0,125001,64)\n",
    "\n",
    "final_frequencies = mel_features.hertz_to_mel(final_freqs)\n"
   ]
  },
  {
   "cell_type": "code",
   "execution_count": 35,
   "metadata": {},
   "outputs": [
    {
     "data": {
      "text/plain": [
       "array([   0.        , 1514.72900826, 2138.44515516, 2537.61736084,\n",
       "       2831.79106167, 3064.85533047, 3257.88333188, 3422.63449506,\n",
       "       3566.34464939, 3693.78466869, 3808.26677121, 3912.18453245,\n",
       "       4007.32403388, 4095.05350033, 4176.44426732, 4252.35091293,\n",
       "       4323.46605541, 4390.35885877, 4453.50273441, 4513.29568377,\n",
       "       4570.07551017, 4624.13137832, 4675.71272593, 4725.03622334,\n",
       "       4772.29127286, 4817.64440076, 4861.24279904, 4903.21720735,\n",
       "       4943.68427704, 4982.74852542, 5020.50396236, 5057.03545323,\n",
       "       5092.41986774, 5126.72705388, 5160.02066787, 5192.35888507,\n",
       "       5223.79501168, 5254.37801339, 5284.15297421, 5313.16149621,\n",
       "       5341.44204909, 5369.03027696, 5395.95926849, 5422.25979544,\n",
       "       5447.96052408, 5473.08820302, 5497.66783048, 5521.7228038 ,\n",
       "       5545.27505326, 5568.34516222, 5590.95247525, 5613.11519553,\n",
       "       5634.85047296, 5656.17448385, 5677.10250327, 5697.64897078,\n",
       "       5717.82755027, 5737.65118452, 5757.13214511, 5776.282078  ,\n",
       "       5795.11204536, 5813.63256398, 5831.85364048, 5849.78480385])"
      ]
     },
     "execution_count": 35,
     "metadata": {},
     "output_type": "execute_result"
    }
   ],
   "source": [
    "final_frequencies"
   ]
  },
  {
   "cell_type": "code",
   "execution_count": 36,
   "metadata": {},
   "outputs": [
    {
     "data": {
      "text/plain": [
       "array([     0.        ,   1984.14285714,   3968.28571429,   5952.42857143,\n",
       "         7936.57142857,   9920.71428571,  11904.85714286,  13889.        ,\n",
       "        15873.14285714,  17857.28571429,  19841.42857143,  21825.57142857,\n",
       "        23809.71428571,  25793.85714286,  27778.        ,  29762.14285714,\n",
       "        31746.28571429,  33730.42857143,  35714.57142857,  37698.71428571,\n",
       "        39682.85714286,  41667.        ,  43651.14285714,  45635.28571429,\n",
       "        47619.42857143,  49603.57142857,  51587.71428571,  53571.85714286,\n",
       "        55556.        ,  57540.14285714,  59524.28571429,  61508.42857143,\n",
       "        63492.57142857,  65476.71428571,  67460.85714286,  69445.        ,\n",
       "        71429.14285714,  73413.28571429,  75397.42857143,  77381.57142857,\n",
       "        79365.71428571,  81349.85714286,  83334.        ,  85318.14285714,\n",
       "        87302.28571429,  89286.42857143,  91270.57142857,  93254.71428571,\n",
       "        95238.85714286,  97223.        ,  99207.14285714, 101191.28571429,\n",
       "       103175.42857143, 105159.57142857, 107143.71428571, 109127.85714286,\n",
       "       111112.        , 113096.14285714, 115080.28571429, 117064.42857143,\n",
       "       119048.57142857, 121032.71428571, 123016.85714286, 125001.        ])"
      ]
     },
     "execution_count": 36,
     "metadata": {},
     "output_type": "execute_result"
    }
   ],
   "source": [
    "final_freqs"
   ]
  },
  {
   "cell_type": "code",
   "execution_count": 37,
   "metadata": {},
   "outputs": [
    {
     "data": {
      "text/plain": [
       "array([   0.        ,  126.98412698,  253.96825397,  380.95238095,\n",
       "        507.93650794,  634.92063492,  761.9047619 ,  888.88888889,\n",
       "       1015.87301587, 1142.85714286, 1269.84126984, 1396.82539683,\n",
       "       1523.80952381, 1650.79365079, 1777.77777778, 1904.76190476,\n",
       "       2031.74603175, 2158.73015873, 2285.71428571, 2412.6984127 ,\n",
       "       2539.68253968, 2666.66666667, 2793.65079365, 2920.63492063,\n",
       "       3047.61904762, 3174.6031746 , 3301.58730159, 3428.57142857,\n",
       "       3555.55555556, 3682.53968254, 3809.52380952, 3936.50793651,\n",
       "       4063.49206349, 4190.47619048, 4317.46031746, 4444.44444444,\n",
       "       4571.42857143, 4698.41269841, 4825.3968254 , 4952.38095238,\n",
       "       5079.36507937, 5206.34920635, 5333.33333333, 5460.31746032,\n",
       "       5587.3015873 , 5714.28571429, 5841.26984127, 5968.25396825,\n",
       "       6095.23809524, 6222.22222222, 6349.20634921, 6476.19047619,\n",
       "       6603.17460317, 6730.15873016, 6857.14285714, 6984.12698413,\n",
       "       7111.11111111, 7238.0952381 , 7365.07936508, 7492.06349206,\n",
       "       7619.04761905, 7746.03174603, 7873.01587302, 8000.        ])"
      ]
     },
     "execution_count": 37,
     "metadata": {},
     "output_type": "execute_result"
    }
   ],
   "source": [
    "#trying to plot the graph with different frequencies \n",
    "final_freqs = np.linspace(0,8000,64)\n",
    "final_freqs"
   ]
  },
  {
   "cell_type": "code",
   "execution_count": 38,
   "metadata": {},
   "outputs": [],
   "source": [
    "final_frequencies = mel_features.hertz_to_mel(final_freqs)"
   ]
  },
  {
   "cell_type": "code",
   "execution_count": 39,
   "metadata": {},
   "outputs": [
    {
     "data": {
      "text/plain": [
       "array([   0.        ,  187.87672243,  348.86291659,  489.7011444 ,\n",
       "        614.87821968,  727.53122616,  829.93988623,  923.81306166,\n",
       "       1010.46475385, 1090.92710374, 1166.0256543 , 1236.43105657,\n",
       "       1302.69554809, 1365.27928705, 1424.56974979, 1480.89627503,\n",
       "       1534.5411427 , 1585.74813338, 1634.72922599, 1681.66989949,\n",
       "       1726.73337386, 1770.06403517, 1811.79022625, 1852.02653889,\n",
       "       1890.87571067, 1928.4302057 , 1964.77354031, 1999.98140153,\n",
       "       2034.12259616, 2067.25986022, 2099.45055272, 2130.74725316,\n",
       "       2161.19827818, 2190.84813029, 2219.73788904, 2247.90555331,\n",
       "       2275.38634186, 2302.21295807, 2328.41582393, 2354.02328743,\n",
       "       2379.06180687, 2403.55611522, 2427.52936692, 2451.00326942,\n",
       "       2473.99820129, 2496.53331851, 2518.62665039, 2540.29518618,\n",
       "       2561.5549536 , 2582.42109003, 2602.90790729, 2623.02895055,\n",
       "       2642.7970522 , 2662.22438092, 2681.32248673, 2700.10234223,\n",
       "       2718.57438043, 2736.74852956, 2754.63424516, 2772.24053957,\n",
       "       2789.57600922, 2806.64885986, 2823.46692984, 2840.03771174])"
      ]
     },
     "execution_count": 39,
     "metadata": {},
     "output_type": "execute_result"
    }
   ],
   "source": [
    "final_frequencies"
   ]
  },
  {
   "cell_type": "code",
   "execution_count": 40,
   "metadata": {},
   "outputs": [
    {
     "name": "stdout",
     "output_type": "stream",
     "text": [
      "1127.0\n"
     ]
    }
   ],
   "source": [
    "print(mel_features._MEL_HIGH_FREQUENCY_Q)"
   ]
  },
  {
   "cell_type": "code",
   "execution_count": 41,
   "metadata": {},
   "outputs": [
    {
     "name": "stdout",
     "output_type": "stream",
     "text": [
      "700.0\n"
     ]
    }
   ],
   "source": [
    "print(mel_features._MEL_BREAK_FREQUENCY_HERTZ)"
   ]
  },
  {
   "cell_type": "code",
   "execution_count": 42,
   "metadata": {},
   "outputs": [
    {
     "data": {
      "text/plain": [
       "2840.0377117383778"
      ]
     },
     "execution_count": 42,
     "metadata": {},
     "output_type": "execute_result"
    }
   ],
   "source": [
    "mel_features._MEL_HIGH_FREQUENCY_Q * np.log(\n",
    "      1.0 + (8000 / mel_features._MEL_BREAK_FREQUENCY_HERTZ))"
   ]
  },
  {
   "cell_type": "code",
   "execution_count": null,
   "metadata": {},
   "outputs": [],
   "source": []
  }
 ],
 "metadata": {
  "kernelspec": {
   "display_name": "Python 3",
   "language": "python",
   "name": "python3"
  },
  "language_info": {
   "codemirror_mode": {
    "name": "ipython",
    "version": 3
   },
   "file_extension": ".py",
   "mimetype": "text/x-python",
   "name": "python",
   "nbconvert_exporter": "python",
   "pygments_lexer": "ipython3",
   "version": "3.6.6"
  }
 },
 "nbformat": 4,
 "nbformat_minor": 2
}
