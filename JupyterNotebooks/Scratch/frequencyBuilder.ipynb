{
 "cells": [
  {
   "cell_type": "code",
   "execution_count": 1,
   "metadata": {},
   "outputs": [],
   "source": [
    "import mel_features\n",
    "import vggish_params"
   ]
  },
  {
   "cell_type": "code",
   "execution_count": 2,
   "metadata": {},
   "outputs": [
    {
     "name": "stdout",
     "output_type": "stream",
     "text": [
      "(152092672,)\n"
     ]
    }
   ],
   "source": [
    "from scipy.io import wavfile\n",
    "import numpy as np\n",
    "import mel_features\n",
    "fs, data = wavfile.read('input.wav')\n",
    "print(data.shape)"
   ]
  },
  {
   "cell_type": "code",
   "execution_count": 3,
   "metadata": {},
   "outputs": [],
   "source": [
    "num_samples = 152092672\n",
    "window_length = 0.025*250000\n",
    "hop_length = 0.010*250000"
   ]
  },
  {
   "cell_type": "code",
   "execution_count": 4,
   "metadata": {},
   "outputs": [],
   "source": [
    "num_frames = 1 + int(np.floor((num_samples - window_length) / hop_length))"
   ]
  },
  {
   "cell_type": "code",
   "execution_count": 5,
   "metadata": {},
   "outputs": [
    {
     "name": "stdout",
     "output_type": "stream",
     "text": [
      "(60835, 6250.0)\n",
      "()\n",
      "380218750.0\n"
     ]
    }
   ],
   "source": [
    "shape = (num_frames, window_length) + data.shape[1:]\n",
    "print(shape)\n",
    "print(data.shape[1:])\n",
    "print(num_frames*window_length)"
   ]
  },
  {
   "cell_type": "code",
   "execution_count": 6,
   "metadata": {},
   "outputs": [
    {
     "name": "stdout",
     "output_type": "stream",
     "text": [
      "(5000.0, 2)\n"
     ]
    }
   ],
   "source": [
    "strides = (data.strides[0] * hop_length,) + data.strides\n",
    "print(strides)"
   ]
  },
  {
   "cell_type": "code",
   "execution_count": 7,
   "metadata": {},
   "outputs": [
    {
     "name": "stdout",
     "output_type": "stream",
     "text": [
      "fft_length8192\n",
      "num_samples152092672\n",
      "num_frames60835\n",
      "shape(60835, 6250)\n",
      "strides(5000, 2)\n",
      "(60835, 6250)\n",
      "(60835, 6250)\n",
      "sfft_mangnitute return thing shape (60835, 4097)\n"
     ]
    }
   ],
   "source": [
    "log_mel = mel_features.log_mel_spectrogram(\n",
    "      data,\n",
    "      audio_sample_rate=vggish_params.SAMPLE_RATE,\n",
    "      log_offset=vggish_params.LOG_OFFSET,\n",
    "      window_length_secs=vggish_params.STFT_WINDOW_LENGTH_SECONDS,\n",
    "      hop_length_secs=vggish_params.STFT_HOP_LENGTH_SECONDS,\n",
    "      num_mel_bins=vggish_params.NUM_MEL_BINS,\n",
    "      lower_edge_hertz=vggish_params.MEL_MIN_HZ,\n",
    "      upper_edge_hertz=vggish_params.MEL_MAX_HZ)"
   ]
  },
  {
   "cell_type": "code",
   "execution_count": 8,
   "metadata": {},
   "outputs": [
    {
     "name": "stdout",
     "output_type": "stream",
     "text": [
      "8192\n"
     ]
    }
   ],
   "source": [
    "fft_length = 2 ** int(np.ceil(np.log(window_length) / np.log(2.0)))\n",
    "print(fft_length)"
   ]
  },
  {
   "cell_type": "code",
   "execution_count": null,
   "metadata": {},
   "outputs": [],
   "source": []
  }
 ],
 "metadata": {
  "kernelspec": {
   "display_name": "Python 3",
   "language": "python",
   "name": "python3"
  },
  "language_info": {
   "codemirror_mode": {
    "name": "ipython",
    "version": 3
   },
   "file_extension": ".py",
   "mimetype": "text/x-python",
   "name": "python",
   "nbconvert_exporter": "python",
   "pygments_lexer": "ipython3",
   "version": "3.6.6"
  }
 },
 "nbformat": 4,
 "nbformat_minor": 2
}
