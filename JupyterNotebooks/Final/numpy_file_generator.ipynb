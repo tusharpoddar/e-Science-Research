{
 "cells": [
  {
   "cell_type": "markdown",
   "metadata": {},
   "source": [
    "### Numpy file generator \n",
    "\n",
    "This program is used to generate the numpy file that stores the numpy array array given out by the VGGish model. The array stored in this file represents the mel spectrogram for the input wav file that we gave to the model. \n",
    "\n",
    "Note - the following file can be used with the original vggish model (without any modifications)."
   ]
  },
  {
   "cell_type": "code",
   "execution_count": 1,
   "metadata": {},
   "outputs": [],
   "source": [
    "# importing all the packages\n",
    "import numpy as np\n",
    "import vggish_input"
   ]
  },
  {
   "cell_type": "code",
   "execution_count": null,
   "metadata": {},
   "outputs": [
    {
     "name": "stdout",
     "output_type": "stream",
     "text": [
      "250000\n",
      "fft_length2048\n",
      "num_samples152092672\n",
      "num_frames243346\n",
      "shape(243346, 1562)\n",
      "strides(5000, 8)\n",
      "(243346, 1562)\n",
      "(243346, 1562)\n"
     ]
    }
   ],
   "source": [
    "# Function used to generate all the data that is later used for visualizations and observations\n",
    "# the function takes in the name of the wav file is given as input to the vggish model. \n",
    "vggish_output_array = vggish_input.wavfile_to_examples('input.wav')"
   ]
  },
  {
   "cell_type": "code",
   "execution_count": null,
   "metadata": {},
   "outputs": [],
   "source": [
    "# Specify the name of the file that you want to save data in\n",
    "np.save('dataWithOneFourthWindowSize', vggish_output_array)"
   ]
  },
  {
   "cell_type": "code",
   "execution_count": null,
   "metadata": {},
   "outputs": [],
   "source": []
  }
 ],
 "metadata": {
  "kernelspec": {
   "display_name": "Python 3",
   "language": "python",
   "name": "python3"
  },
  "language_info": {
   "codemirror_mode": {
    "name": "ipython",
    "version": 3
   },
   "file_extension": ".py",
   "mimetype": "text/x-python",
   "name": "python",
   "nbconvert_exporter": "python",
   "pygments_lexer": "ipython3",
   "version": "3.6.6"
  }
 },
 "nbformat": 4,
 "nbformat_minor": 2
}
