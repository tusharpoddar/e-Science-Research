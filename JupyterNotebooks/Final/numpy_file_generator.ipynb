{
 "cells": [
  {
   "cell_type": "markdown",
   "metadata": {},
   "source": [
    "### Numpy file generator \n",
    "This program is used to generate the numpy file that stores the numpy array array given out by the VGGish model. The array stored in this file represents the mel spectrogram for the input wav file that we gave to the model. "
   ]
  },
  {
   "cell_type": "code",
   "execution_count": null,
   "metadata": {},
   "outputs": [],
   "source": [
    "# importing all the packages\n",
    "import numpy as np\n",
    "import vggish_input"
   ]
  },
  {
   "cell_type": "code",
   "execution_count": 9,
   "metadata": {},
   "outputs": [
    {
     "name": "stdout",
     "output_type": "stream",
     "text": [
      "250000\n",
      "16000audio_sample_rate\n",
      "125lower_edge_hertz\n",
      "7500upper_edge_hertz\n"
     ]
    }
   ],
   "source": [
    "# Function used to generate all the data that is later used for visualizations and observations\n",
    "examples_batch = vggish_input.wavfile_to_examples('input.wav')"
   ]
  },
  {
   "cell_type": "code",
   "execution_count": 11,
   "metadata": {},
   "outputs": [],
   "source": [
    "# Specify the name of the file that you want to save data in\n",
    "np.save('new', examples_batch)"
   ]
  }
 ],
 "metadata": {
  "kernelspec": {
   "display_name": "Python 3",
   "language": "python",
   "name": "python3"
  },
  "language_info": {
   "codemirror_mode": {
    "name": "ipython",
    "version": 3
   },
   "file_extension": ".py",
   "mimetype": "text/x-python",
   "name": "python",
   "nbconvert_exporter": "python",
   "pygments_lexer": "ipython3",
   "version": "3.6.6"
  }
 },
 "nbformat": 4,
 "nbformat_minor": 2
}
