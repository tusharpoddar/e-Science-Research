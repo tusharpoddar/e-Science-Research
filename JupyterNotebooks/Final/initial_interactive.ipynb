{
 "cells": [
  {
   "cell_type": "markdown",
   "metadata": {},
   "source": [
    "## The followinig code is used to plot the spectrogram that we get from the vggish model. \n",
    "There are a lot of problems with this model of code - \n",
    "1. we use the matplotlib to form all the spectrograms in the class that we have definied. Due to this all the matplotlib plots are presented as there is no way we can stop it from displaying all the spectrograms. So in later options we tried to solve this thing by using scipy.spectrogram to make the plots. Using this we dont have to see all the plots apart from the interactiive plot. \n",
    "2. We cannot store this notebook on github, so we use the dynamic map later instead of this notmal holoviews map. "
   ]
  },
  {
   "cell_type": "code",
   "execution_count": null,
   "metadata": {},
   "outputs": [],
   "source": [
    "# importing all the packages\n",
    "import matplotlib.pyplot as plt\n",
    "\n",
    "from scipy.io import wavfile\n",
    "import io\n",
    "import holoviews as hv\n",
    "import param\n",
    "from holoviews import opts\n",
    "import xarray as xr\n",
    "\n",
    "import os \n",
    "import numpy as np\n",
    "from bokeh.plotting import figure, show\n",
    "from bokeh.io import output_notebook\n",
    "\n",
    "import imp \n",
    "from holoviews import opts\n",
    "from holoviews.operation import Operation"
   ]
  },
  {
   "cell_type": "code",
   "execution_count": null,
   "metadata": {},
   "outputs": [],
   "source": [
    "fs, data = wavfile.read('soundfile.wav')"
   ]
  },
  {
   "cell_type": "code",
   "execution_count": null,
   "metadata": {},
   "outputs": [],
   "source": [
    "# making the holoview once \n",
    "data_used = data.T\n",
    "print(data_used.shape)\n",
    "NFFT = 512  # the length of the windowing segments\n",
    "plt.figure(figsize = (20,10))\n",
    "#fig, ax1 = plt.subplots(nrows=1)\n",
    "Pxx, freqs, bins, im = plt.specgram(data_used[0], NFFT=NFFT, Fs=fs, noverlap=10) # im is the picture of the plot\n",
    "\n",
    "xr_spec = xr.DataArray(np.log(Pxx),dims = ('freq','time'),coords = {'freq':freqs,'time':bins})\n",
    "xr_spec.name = 'Spectrogram'\n",
    "hv_spec = hv.Dataset(xr_spec)\n",
    "\n",
    "hv.extension('bokeh')\n",
    "spec = hv_spec.to(hv.Image, ['time', 'freq'])"
   ]
  },
  {
   "cell_type": "code",
   "execution_count": null,
   "metadata": {},
   "outputs": [],
   "source": [
    "from scipy import signal\n",
    "freqs, bins, Pxx = signal.spectrogram(data_used[0], nperseg = 20, fs=fs, noverlap=10)"
   ]
  },
  {
   "cell_type": "code",
   "execution_count": null,
   "metadata": {},
   "outputs": [],
   "source": [
    "plt.pcolormesh(bins, freqs, Pxx)\n",
    "plt.ylabel('Frequency [Hz]')\n",
    "plt.xlabel('Time [sec]')\n",
    "plt.show()"
   ]
  },
  {
   "cell_type": "code",
   "execution_count": null,
   "metadata": {},
   "outputs": [],
   "source": [
    "spec"
   ]
  },
  {
   "cell_type": "code",
   "execution_count": null,
   "metadata": {},
   "outputs": [],
   "source": [
    "data_used = data.T \n",
    "print(data_used.shape)"
   ]
  },
  {
   "cell_type": "code",
   "execution_count": null,
   "metadata": {},
   "outputs": [],
   "source": [
    "# Making a class of the above two functions to call when the holoviews is called \n",
    "data_used = data.T \n",
    "\n",
    "class interactive_plot(Operation):\n",
    "    \n",
    "    NFFT = param.Number(default=512)  # the length of the windowing segments\n",
    "    \n",
    "    def _process(self, element,  key=None):\n",
    "        data_used = data.T    \n",
    "        plt.figure(figsize = (20,10))\n",
    "        #fig, ax1 = plt.subplots(nrows=1)\n",
    "        Pxx, freqs, bins, im = plt.specgram(data_used[0], NFFT= self.p.NFFT, Fs=fs, noverlap=10) \n",
    "        xr_spec = xr.DataArray(np.log(Pxx),dims = ('freq','time'),coords = {'freq':freqs,'time':bins})\n",
    "        xr_spec.name = 'Spectrogram'\n",
    "        dataset = hv.Dataset(xr_spec)\n",
    "        returning_thing = dataset.to(hv.Image, ['time', 'freq'])\n",
    "        returning_thing\n",
    "        \n",
    "        return returning_thing"
   ]
  },
  {
   "cell_type": "code",
   "execution_count": null,
   "metadata": {
    "scrolled": false
   },
   "outputs": [],
   "source": [
    "hv.extension('bokeh', 'matplotlib')\n",
    "\n",
    "hv.extension('bokeh')\n",
    "output_notebook()\n",
    "\n",
    "imp.reload(hv)\n",
    "\n",
    "widget = hv.HoloMap({NFFT: interactive_plot(spec, NFFT=NFFT) \n",
    "                      for NFFT in range(16, 512, 8)}, kdims=\"NFFT\")\n",
    "\n",
    "widget.opts(framewise=True)"
   ]
  }
 ],
 "metadata": {
  "kernelspec": {
   "display_name": "Python 3",
   "language": "python",
   "name": "python3"
  },
  "language_info": {
   "codemirror_mode": {
    "name": "ipython",
    "version": 3
   },
   "file_extension": ".py",
   "mimetype": "text/x-python",
   "name": "python",
   "nbconvert_exporter": "python",
   "pygments_lexer": "ipython3",
   "version": "3.6.6"
  }
 },
 "nbformat": 4,
 "nbformat_minor": 2
}
