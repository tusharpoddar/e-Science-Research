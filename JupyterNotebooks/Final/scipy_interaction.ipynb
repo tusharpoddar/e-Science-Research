{
 "cells": [
  {
   "cell_type": "markdown",
   "metadata": {},
   "source": [
    "## The following file is used to presnt the interactive plot with the help of scipy. \n",
    "The following code is better than the intial interactive plot but it still cannot be uploaded on github as this file is very heavy. In order to change solve this problem we use Dynamic map in the final interactive plot. \n",
    "\n",
    "Order of correctness - \n",
    "\n",
    "Initial interactive --> Scipy interactive(this file) --> Final interactive plot"
   ]
  },
  {
   "cell_type": "code",
   "execution_count": null,
   "metadata": {},
   "outputs": [],
   "source": [
    "# importing all the packages\n",
    "import matplotlib.pyplot as plt\n",
    "\n",
    "from scipy.io import wavfile\n",
    "import io\n",
    "import holoviews as hv\n",
    "import param\n",
    "from holoviews import opts\n",
    "import xarray as xr\n",
    "\n",
    "import os \n",
    "import numpy as np\n",
    "from bokeh.plotting import figure, show\n",
    "from bokeh.io import output_notebook\n",
    "\n",
    "import imp \n",
    "from holoviews import opts\n",
    "from holoviews.operation import Operation\n",
    "\n",
    "plt.rcParams.update({'figure.max_open_warning': 0})"
   ]
  },
  {
   "cell_type": "code",
   "execution_count": null,
   "metadata": {},
   "outputs": [],
   "source": [
    "fs, data = wavfile.read('soundfile.wav')"
   ]
  },
  {
   "cell_type": "code",
   "execution_count": null,
   "metadata": {},
   "outputs": [],
   "source": [
    "data_used = data.T"
   ]
  },
  {
   "cell_type": "code",
   "execution_count": null,
   "metadata": {},
   "outputs": [],
   "source": [
    "from scipy import signal\n",
    "freqs, bins, Pxx = signal.spectrogram(data_used[0], nperseg = 20, fs=fs, noverlap=10)"
   ]
  },
  {
   "cell_type": "code",
   "execution_count": null,
   "metadata": {},
   "outputs": [],
   "source": [
    "# this is the block o f code to present just one spectrogram made\n",
    "plt.pcolormesh(bins, freqs, Pxx)\n",
    "plt.ylabel('Frequency [Hz]')\n",
    "plt.xlabel('Time [sec]')\n",
    "plt.show()"
   ]
  },
  {
   "cell_type": "code",
   "execution_count": null,
   "metadata": {},
   "outputs": [],
   "source": [
    "xr_spec = xr.DataArray(np.log(Pxx),dims = ('freq','time'),coords = {'freq':freqs,'time':bins})\n",
    "xr_spec.name = 'Spectrogram'\n",
    "hv_spec = hv.Dataset(xr_spec)\n",
    "\n",
    "hv.extension('bokeh')\n",
    "spec = hv_spec.to(hv.Image, ['time', 'freq'])"
   ]
  },
  {
   "cell_type": "code",
   "execution_count": null,
   "metadata": {},
   "outputs": [],
   "source": [
    "# Making a class of the above two functions to call when the holoviews is called \n",
    "data_used = data.T \n",
    "\n",
    "class interactive_plot(Operation):\n",
    "    \n",
    "    NFFT = param.Number(default=512)  # the length of the windowing segments\n",
    "    \n",
    "    def _process(self, element,  key=None):\n",
    "        data_used = data.T    \n",
    "        plt.figure(figsize = (20,10))\n",
    "        #fig, ax1 = plt.subplots(nrows=1)\n",
    "        freqs, bins, Pxx = signal.spectrogram(data_used[0], nperseg = self.p.NFFT, fs=fs, noverlap=10)\n",
    "        \n",
    "        xr_spec = xr.DataArray(np.log(Pxx),dims = ('freq','time'),coords = {'freq':freqs,'time':bins})\n",
    "        xr_spec.name = 'Spectrogram'\n",
    "        dataset = hv.Dataset(xr_spec)\n",
    "        returning_thing = dataset.to(hv.Image, ['time', 'freq'])\n",
    "        returning_thing\n",
    "        \n",
    "        return returning_thing"
   ]
  },
  {
   "cell_type": "code",
   "execution_count": null,
   "metadata": {
    "scrolled": false
   },
   "outputs": [],
   "source": [
    "hv.extension('bokeh', 'matplotlib')\n",
    "\n",
    "hv.extension('bokeh')\n",
    "output_notebook()\n",
    "\n",
    "imp.reload(hv)\n",
    "\n",
    "widget = hv.HoloMap({NFFT: interactive_plot(spec, NFFT=NFFT) \n",
    "                      for NFFT in range(16, 512, 8)}, kdims=\"NFFT\")\n",
    "\n",
    "widget.opts(framewise=True)"
   ]
  },
  {
   "cell_type": "code",
   "execution_count": null,
   "metadata": {},
   "outputs": [],
   "source": []
  }
 ],
 "metadata": {
  "kernelspec": {
   "display_name": "Python 3",
   "language": "python",
   "name": "python3"
  },
  "language_info": {
   "codemirror_mode": {
    "name": "ipython",
    "version": 3
   },
   "file_extension": ".py",
   "mimetype": "text/x-python",
   "name": "python",
   "nbconvert_exporter": "python",
   "pygments_lexer": "ipython3",
   "version": "3.6.6"
  }
 },
 "nbformat": 4,
 "nbformat_minor": 2
}
