{
  "nbformat": 4,
  "nbformat_minor": 0,
  "metadata": {
    "colab": {
      "name": "Interpolated-spectrogram.ipynb",
      "provenance": [],
      "collapsed_sections": [],
      "authorship_tag": "ABX9TyPwcpIV4plxxtB7GaCh4JaG",
      "include_colab_link": true
    },
    "kernelspec": {
      "name": "python3",
      "display_name": "Python 3"
    }
  },
  "cells": [
    {
      "cell_type": "markdown",
      "metadata": {
        "id": "view-in-github",
        "colab_type": "text"
      },
      "source": [
        "<a href=\"https://colab.research.google.com/github/tusharpoddar/e-Science-Research/blob/master/GoogleDrive/Interpolated_spectrogram.ipynb\" target=\"_parent\"><img src=\"https://colab.research.google.com/assets/colab-badge.svg\" alt=\"Open In Colab\"/></a>"
      ]
    },
    {
      "cell_type": "markdown",
      "metadata": {
        "id": "Ha8q1XILqj6L",
        "colab_type": "text"
      },
      "source": [
        "# The following file shows how to use the spectorgrams made using the scipy function with the VGGish model. \n",
        "\n",
        "The data in the NetCDF file(that stores the data of the spectrograms made using the scipy functions) is of the form (26666, 55, 257). Where 55 represents the time stamps and 257 represents the frequency stamps. In order for this data to be used by the VGGish model we need to convert it in the form of (?, 96, 64). Where 96 represent the time stamps and 64 represents the frequency stamps. This notebook explains how to convert the data from the netCDF format to the numpy format so that it can be used by the VGGish model.\n",
        "\n",
        "### Things this file can do - \n",
        "Just specify the name of the wav file that needs to be converted to the spectrogram data and this will give you the numpy array in the shape that can be fed to the VGG model. "
      ]
    },
    {
      "cell_type": "code",
      "metadata": {
        "id": "2EQ76WP1Gel6",
        "colab_type": "code",
        "colab": {
          "base_uri": "https://localhost:8080/",
          "height": 122
        },
        "outputId": "ee0eef6f-8086-4f72-bad6-3efe432e2aec"
      },
      "source": [
        "# the following code is done in order to compare the spectrograms that we get from the vggish and the ones that we directly get from the function \n",
        "# scipy spectrogram. \n",
        "from google.colab import drive\n",
        "drive.mount('/content/gdrive')"
      ],
      "execution_count": null,
      "outputs": [
        {
          "output_type": "stream",
          "text": [
            "Go to this URL in a browser: https://accounts.google.com/o/oauth2/auth?client_id=947318989803-6bn6qk8qdgf4n4g3pfee6491hc0brc4i.apps.googleusercontent.com&redirect_uri=urn%3aietf%3awg%3aoauth%3a2.0%3aoob&response_type=code&scope=email%20https%3a%2f%2fwww.googleapis.com%2fauth%2fdocs.test%20https%3a%2f%2fwww.googleapis.com%2fauth%2fdrive%20https%3a%2f%2fwww.googleapis.com%2fauth%2fdrive.photos.readonly%20https%3a%2f%2fwww.googleapis.com%2fauth%2fpeopleapi.readonly\n",
            "\n",
            "Enter your authorization code:\n",
            "··········\n",
            "Mounted at /content/gdrive\n"
          ],
          "name": "stdout"
        }
      ]
    },
    {
      "cell_type": "code",
      "metadata": {
        "id": "YWG6MF7mGxoZ",
        "colab_type": "code",
        "colab": {}
      },
      "source": [
        "import numpy as np\n",
        "import pandas as pd\n",
        "import math\n",
        "import time\n",
        "import re\n",
        "import os\n",
        "import matplotlib.pyplot as plt\n",
        "\n",
        "from skimage import util\n",
        "from scipy.io import wavfile\n",
        "from scipy import signal\n",
        "from scipy import stats"
      ],
      "execution_count": null,
      "outputs": []
    },
    {
      "cell_type": "code",
      "metadata": {
        "id": "hpPiBfYGPbgU",
        "colab_type": "code",
        "colab": {}
      },
      "source": [
        "def create_slice_from_wav(file_path, file_len, slice_len, step_size):\n",
        "  \"\"\"Creates small slices from wav file. file_length is desired length of file in minutes.\n",
        "  slice_len is desired legth of each slice in ms. \n",
        "  step_size is how big of step to take between steps (larger size is less overlap).\"\"\"\n",
        "  \n",
        "  #read in wav file\n",
        "  samp_freq, sig_data = wavfile.read(file_path)\n",
        "  \n",
        "  #convert file_length from min to sample numbers\n",
        "  file_length_num = 5*samp_freq*60\n",
        "  \n",
        "  #convert slice_len from ms to sample numbers\n",
        "  slice_sample_num = slice_len*samp_freq/1000\n",
        "  \n",
        "  #use only slices within file_length\n",
        "  sig_data = sig_data[0:int(file_length_num)]\n",
        "  \n",
        "  #determine number of samples and length\n",
        "  n_samples = sig_data.shape[0]\n",
        "  sig_len = n_samples/samp_freq\n",
        "  print('Length: ' + str(sig_len) + ' sec')\n",
        "  \n",
        "  #create slices \n",
        "  steps = int(slice_sample_num*step_size)\n",
        "  slices = util.view_as_windows(sig_data, window_shape=(slice_sample_num,), step=steps)\n",
        "  print(f'Audio shape: {sig_data.shape}, Sliced audio shape: {slices.shape}')\n",
        "  \n",
        "  return samp_freq, sig_data, slices, steps, sig_len\n",
        "\n",
        "def create_spec_from_slice_array(slices, steps, spec_window, NFFT, samp_freq):\n",
        "  \"\"\"Creates fft spectrogram from slice. spec_window is length of each segment (nperseg).\n",
        "  NFFT is length of the FFT used (nfft). samp_freq is sampling frequency (in Hz) of slice (fs).\n",
        "  steps is step size between slices\"\"\"\n",
        "  \n",
        "  spec_slices = {}\n",
        "  samp_freq_kHz = samp_freq/1000\n",
        "\n",
        "  for i in range(slices.shape[0]): \n",
        "    #spectrogram\n",
        "    freqs_spec, times, Sx = signal.spectrogram(slices[i,:], fs=samp_freq, nperseg = spec_window, nfft = NFFT, mode =  'magnitude')\n",
        "\n",
        "    time_stamp = ((i*steps) / samp_freq_kHz)\n",
        "\n",
        "    #store as dic\n",
        "    spec_slices[time_stamp] = Sx\n",
        "\n",
        "  return spec_slices, freqs_spec, times\n",
        "\n",
        "# to be called just one, we will do the sorting again and again\n",
        "def make_git_spectrogram():\n",
        "  # Make a waveform for each class.\n",
        "  #num_seconds = 0.0225\n",
        "  file_len=5\n",
        "  slice_len=25\n",
        "  step_size=0.9\n",
        "\n",
        "  spec_window=128\n",
        "  NFFT=512\n",
        "\n",
        "  path = '/content/gdrive/Shared drives/Research/Data/Wav Files/input5mins.wav'\n",
        "\n",
        "  #create slices\n",
        "\n",
        "  samp_freq, sig_data, slices, steps, sig_len = create_slice_from_wav(path, file_len, slice_len, step_size)\n",
        "  #print(str('Slices created in ' + str(end - start) + '  seconds'))\n",
        "\n",
        "  #create spectrograms\n",
        "  spec_slices, freqs_spec, times = create_spec_from_slice_array(slices, steps, spec_window, NFFT, samp_freq)\n",
        "  #print(str('Spectrograms created in ' + str(end - start) + '  seconds'))\n",
        "  # once we have the dictonary we need to calculate the numpy array\n",
        "  plotting_data = []\n",
        "  for temp in spec_slices:\n",
        "    plotting_data.append(spec_slices[temp].T)\n",
        "  \n",
        "  arr = np.array(plotting_data) \n",
        "  arrShape = arr.shape\n",
        "  git_Spectrogram = np.reshape(arr, (arrShape[0]*arrShape[1], arrShape[2]))\n",
        "  print(git_Spectrogram.shape)\n",
        "  print(arrShape)\n",
        "  return git_Spectrogram, arr"
      ],
      "execution_count": null,
      "outputs": []
    },
    {
      "cell_type": "code",
      "metadata": {
        "id": "uyvWZPh8PxP9",
        "colab_type": "code",
        "colab": {
          "base_uri": "https://localhost:8080/",
          "height": 85
        },
        "outputId": "6361a8d8-4007-46e8-d590-5ef3e183251c"
      },
      "source": [
        "gitSpectrogram, threedarr = make_git_spectrogram()"
      ],
      "execution_count": null,
      "outputs": [
        {
          "output_type": "stream",
          "text": [
            "Length: 300.0 sec\n",
            "Audio shape: (75000000,), Sliced audio shape: (13333, 6250)\n",
            "(733315, 257)\n",
            "(13333, 55, 257)\n"
          ],
          "name": "stdout"
        }
      ]
    },
    {
      "cell_type": "code",
      "metadata": {
        "id": "P-AR4IliOIre",
        "colab_type": "code",
        "colab": {}
      },
      "source": [
        "# working with the 3darray that i get from running the above function \n",
        "array = np.array(threedarr)\n",
        "newArr = []\n",
        "array.shape\n",
        "for temp in array:\n",
        "  changed = cv2.resize(temp, (64, 96))\n",
        "  newArr.append(changed)\n",
        "changed = np.array(newArr)"
      ],
      "execution_count": null,
      "outputs": []
    },
    {
      "cell_type": "code",
      "metadata": {
        "id": "-gHgATWEQDyw",
        "colab_type": "code",
        "colab": {
          "base_uri": "https://localhost:8080/",
          "height": 34
        },
        "outputId": "2a9b209e-c407-4cd5-e741-77c68edd59f3"
      },
      "source": [
        "changed.shape"
      ],
      "execution_count": null,
      "outputs": [
        {
          "output_type": "execute_result",
          "data": {
            "text/plain": [
              "(13333, 96, 64)"
            ]
          },
          "metadata": {
            "tags": []
          },
          "execution_count": 27
        }
      ]
    },
    {
      "cell_type": "code",
      "metadata": {
        "id": "95HjsOwDQNAc",
        "colab_type": "code",
        "colab": {
          "base_uri": "https://localhost:8080/",
          "height": 281
        },
        "outputId": "d0f755ca-585b-4d0c-f942-9ce72d64ffd7"
      },
      "source": [
        "# cheching if the thing made is correct\n",
        "ploter = np.reshape(changed, (13333*96, 64))\n",
        "ploter = ploter.T\n",
        "plt.imshow(ploter[:, 400:500])"
      ],
      "execution_count": null,
      "outputs": [
        {
          "output_type": "execute_result",
          "data": {
            "text/plain": [
              "<matplotlib.image.AxesImage at 0x7f7e2f9becc0>"
            ]
          },
          "metadata": {
            "tags": []
          },
          "execution_count": 32
        },
        {
          "output_type": "display_data",
          "data": {
            "image/png": "[encoded data removed]",
            "text/plain": [
              "<Figure size 432x288 with 1 Axes>"
            ]
          },
          "metadata": {
            "tags": [],
            "needs_background": "light"
          }
        }
      ]
    },
    {
      "cell_type": "code",
      "metadata": {
        "id": "SGZJ93QkQCaC",
        "colab_type": "code",
        "colab": {
          "base_uri": "https://localhost:8080/",
          "height": 34
        },
        "outputId": "6964e1c7-a12b-4b26-c1c7-5cecff761b30"
      },
      "source": [
        "gitSpectrogram.shape"
      ],
      "execution_count": null,
      "outputs": [
        {
          "output_type": "execute_result",
          "data": {
            "text/plain": [
              "(733315, 257)"
            ]
          },
          "metadata": {
            "tags": []
          },
          "execution_count": 5
        }
      ]
    },
    {
      "cell_type": "code",
      "metadata": {
        "id": "eqYfFnolRfEM",
        "colab_type": "code",
        "colab": {}
      },
      "source": [
        "# now forr some time we need to calculate the window that we want to select\n",
        "gitSpectrogram = gitSpectrogram.T"
      ],
      "execution_count": null,
      "outputs": []
    },
    {
      "cell_type": "code",
      "metadata": {
        "id": "wFFi8JwERmaw",
        "colab_type": "code",
        "colab": {
          "base_uri": "https://localhost:8080/",
          "height": 269
        },
        "outputId": "19a58c98-92d5-4941-875d-5d75c97161f2"
      },
      "source": [
        "time = 12\n",
        "windowTimeGit = int(gitSpectrogram.shape[1]*time / 300)\n",
        "plt.imshow(gitSpectrogram[:, windowTimeGit - 30:windowTimeGit + 30])\n",
        "temp = gitSpectrogram[:, windowTimeGit - 30:windowTimeGit + 30]"
      ],
      "execution_count": null,
      "outputs": [
        {
          "output_type": "display_data",
          "data": {
            "image/png": "[encoded data removed]",
            "text/plain": [
              "<Figure size 432x288 with 1 Axes>"
            ]
          },
          "metadata": {
            "tags": [],
            "needs_background": "light"
          }
        }
      ]
    },
    {
      "cell_type": "code",
      "metadata": {
        "id": "Fb2zr_4XSaM6",
        "colab_type": "code",
        "colab": {
          "base_uri": "https://localhost:8080/",
          "height": 34
        },
        "outputId": "044ac5e8-f3ce-4d48-d06b-35b3784ee810"
      },
      "source": [
        "temp.shape"
      ],
      "execution_count": null,
      "outputs": [
        {
          "output_type": "execute_result",
          "data": {
            "text/plain": [
              "(257, 60)"
            ]
          },
          "metadata": {
            "tags": []
          },
          "execution_count": 8
        }
      ]
    },
    {
      "cell_type": "code",
      "metadata": {
        "id": "Pa9c0tSLhsHV",
        "colab_type": "code",
        "colab": {}
      },
      "source": [
        "temp = temp.T"
      ],
      "execution_count": null,
      "outputs": []
    },
    {
      "cell_type": "code",
      "metadata": {
        "id": "nZz28u3bh2Jp",
        "colab_type": "code",
        "colab": {
          "base_uri": "https://localhost:8080/",
          "height": 34
        },
        "outputId": "ae93efa8-518e-4831-c37b-b0cd8589493f"
      },
      "source": [
        "temp.shape"
      ],
      "execution_count": null,
      "outputs": [
        {
          "output_type": "execute_result",
          "data": {
            "text/plain": [
              "(60, 257)"
            ]
          },
          "metadata": {
            "tags": []
          },
          "execution_count": 10
        }
      ]
    },
    {
      "cell_type": "code",
      "metadata": {
        "id": "OpgDLvGRSsTz",
        "colab_type": "code",
        "colab": {}
      },
      "source": [
        "# we now need to change it to 96 * 64 kind of a thing\n",
        "# so we need to have 96 time bind and \n",
        "import cv2"
      ],
      "execution_count": null,
      "outputs": []
    },
    {
      "cell_type": "code",
      "metadata": {
        "id": "RNcmcob-fnS7",
        "colab_type": "code",
        "colab": {}
      },
      "source": [
        "changed = cv2.resize(temp, (64, 96))"
      ],
      "execution_count": null,
      "outputs": []
    },
    {
      "cell_type": "code",
      "metadata": {
        "id": "CT-_izNyfnhF",
        "colab_type": "code",
        "colab": {
          "base_uri": "https://localhost:8080/",
          "height": 34
        },
        "outputId": "e4bba0d9-1943-43b4-c0a2-1b671a3c8c75"
      },
      "source": [
        "changed.shape"
      ],
      "execution_count": null,
      "outputs": [
        {
          "output_type": "execute_result",
          "data": {
            "text/plain": [
              "(96, 64)"
            ]
          },
          "metadata": {
            "tags": []
          },
          "execution_count": 13
        }
      ]
    },
    {
      "cell_type": "code",
      "metadata": {
        "id": "77YP5qX4r0lG",
        "colab_type": "code",
        "colab": {}
      },
      "source": [
        "newArr = []\n",
        "newArr.append(changed)"
      ],
      "execution_count": null,
      "outputs": []
    },
    {
      "cell_type": "code",
      "metadata": {
        "id": "CQgdQJW_r303",
        "colab_type": "code",
        "colab": {}
      },
      "source": [
        "FinalArr = np.array(newArr)"
      ],
      "execution_count": null,
      "outputs": []
    },
    {
      "cell_type": "code",
      "metadata": {
        "id": "odN5kGhmr-0r",
        "colab_type": "code",
        "colab": {
          "base_uri": "https://localhost:8080/",
          "height": 34
        },
        "outputId": "818a53a8-c4bd-4068-afa4-1d913bdff974"
      },
      "source": [
        "FinalArr.shape"
      ],
      "execution_count": null,
      "outputs": [
        {
          "output_type": "execute_result",
          "data": {
            "text/plain": [
              "(1, 96, 64)"
            ]
          },
          "metadata": {
            "tags": []
          },
          "execution_count": 23
        }
      ]
    },
    {
      "cell_type": "code",
      "metadata": {
        "id": "b6ZhtgBZrU2W",
        "colab_type": "code",
        "colab": {}
      },
      "source": [
        "newArr = []\n",
        "newArr.append(changed)"
      ],
      "execution_count": null,
      "outputs": []
    },
    {
      "cell_type": "code",
      "metadata": {
        "id": "B8Awd8GqreTo",
        "colab_type": "code",
        "colab": {}
      },
      "source": [
        "arr = np.array(newArr)"
      ],
      "execution_count": null,
      "outputs": []
    },
    {
      "cell_type": "code",
      "metadata": {
        "id": "vH0Q0EZPrnb3",
        "colab_type": "code",
        "colab": {
          "base_uri": "https://localhost:8080/",
          "height": 34
        },
        "outputId": "c83c9ab7-9107-4990-cb7e-4aa20c7eda14"
      },
      "source": [
        "arr.shape"
      ],
      "execution_count": null,
      "outputs": [
        {
          "output_type": "execute_result",
          "data": {
            "text/plain": [
              "(1, 64, 96)"
            ]
          },
          "metadata": {
            "tags": []
          },
          "execution_count": 18
        }
      ]
    },
    {
      "cell_type": "code",
      "metadata": {
        "id": "Cz-hzvykt7-E",
        "colab_type": "code",
        "colab": {}
      },
      "source": [
        "# making a function that produces the array that that specific time\n",
        "def spectrogramMaker(time, gitSpectrogram):\n",
        "  gitSpectrogram = gitSpectrogram.T\n",
        "  time = 12\n",
        "  windowTimeGit = int(gitSpectrogram.shape[1]*time / 300)\n",
        "  temp = gitSpectrogram[:, windowTimeGit - 30:windowTimeGit + 30]\n",
        "  temp = temp.T\n",
        "  changed = cv2.resize(temp, (64, 96))\n",
        "  newArr = []\n",
        "  newArr.append(changed)\n",
        "  FinalArr = np.array(newArr)\n",
        "  return FinalArr"
      ],
      "execution_count": null,
      "outputs": []
    },
    {
      "cell_type": "code",
      "metadata": {
        "id": "OMMrnqs7u1dA",
        "colab_type": "code",
        "colab": {}
      },
      "source": [
        "times = [52.36087475, 56.13919295, 121.0993401, 121.1951882, 222.3025125, 121.5241679]"
      ],
      "execution_count": null,
      "outputs": []
    },
    {
      "cell_type": "code",
      "metadata": {
        "id": "qRcYsLFD1eus",
        "colab_type": "code",
        "colab": {}
      },
      "source": [
        "temp1 = spectrogramMaker(52.36087475, np.copy(gitSpectrogram))"
      ],
      "execution_count": null,
      "outputs": []
    },
    {
      "cell_type": "code",
      "metadata": {
        "id": "-d9127zM1jbi",
        "colab_type": "code",
        "colab": {}
      },
      "source": [
        "temp2 = spectrogramMaker(56.13919295, np.copy(gitSpectrogram))"
      ],
      "execution_count": null,
      "outputs": []
    },
    {
      "cell_type": "code",
      "metadata": {
        "id": "MUjxnDxW1nO-",
        "colab_type": "code",
        "colab": {}
      },
      "source": [
        "all_examples = np.concatenate((temp1, temp2))"
      ],
      "execution_count": null,
      "outputs": []
    },
    {
      "cell_type": "code",
      "metadata": {
        "id": "xLUSIPYZ1sV6",
        "colab_type": "code",
        "colab": {
          "base_uri": "https://localhost:8080/",
          "height": 34
        },
        "outputId": "0e0cd276-1466-4996-8ac5-c5d58c1b979a"
      },
      "source": [
        "all_examples.shape"
      ],
      "execution_count": null,
      "outputs": [
        {
          "output_type": "execute_result",
          "data": {
            "text/plain": [
              "(2, 96, 64)"
            ]
          },
          "metadata": {
            "tags": []
          },
          "execution_count": 17
        }
      ]
    },
    {
      "cell_type": "code",
      "metadata": {
        "id": "8kUIVmk33-wJ",
        "colab_type": "code",
        "colab": {}
      },
      "source": [
        "allSpectrogram = []"
      ],
      "execution_count": null,
      "outputs": []
    },
    {
      "cell_type": "code",
      "metadata": {
        "id": "zqm5oEtTyfoZ",
        "colab_type": "code",
        "colab": {}
      },
      "source": [
        "for time in times:\n",
        "  temp = spectrogramMaker(time, np.copy(gitSpectrogram))\n",
        "  allSpectrogram.append(temp)"
      ],
      "execution_count": null,
      "outputs": []
    },
    {
      "cell_type": "code",
      "metadata": {
        "id": "Ky98Omti4CWt",
        "colab_type": "code",
        "colab": {}
      },
      "source": [
        "all_examples= np.array([], dtype=np.float64)"
      ],
      "execution_count": null,
      "outputs": []
    },
    {
      "cell_type": "code",
      "metadata": {
        "id": "vX_6AeuC4JyE",
        "colab_type": "code",
        "colab": {}
      },
      "source": [
        "all_examples = np.concatenate((allSpectrogram))"
      ],
      "execution_count": null,
      "outputs": []
    },
    {
      "cell_type": "code",
      "metadata": {
        "id": "uqPStMJu4SdL",
        "colab_type": "code",
        "colab": {
          "base_uri": "https://localhost:8080/",
          "height": 34
        },
        "outputId": "e7d5cb53-cdb0-4d39-b55d-518a4af23851"
      },
      "source": [
        "all_examples.shape"
      ],
      "execution_count": null,
      "outputs": [
        {
          "output_type": "execute_result",
          "data": {
            "text/plain": [
              "(6, 96, 64)"
            ]
          },
          "metadata": {
            "tags": []
          },
          "execution_count": 25
        }
      ]
    }
  ]
}