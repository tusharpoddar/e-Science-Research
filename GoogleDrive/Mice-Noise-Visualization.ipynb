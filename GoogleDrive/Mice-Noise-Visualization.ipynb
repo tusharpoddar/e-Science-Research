{
 "cells": [
  {
   "cell_type": "markdown",
   "metadata": {},
   "source": [
    "# The following file is used for making a visualization for the sounds created by mice and those that are random noise. \n",
    "\n",
    "You can scroll through differenct examples of each to visualize how they look and how thay are different from each other. "
   ]
  },
  {
   "cell_type": "code",
   "execution_count": 2,
   "metadata": {},
   "outputs": [
    {
     "name": "stdout",
     "output_type": "stream",
     "text": [
      "Requirement already satisfied: matplotlib in /Users/tusharpoddar/opt/anaconda3/envs/final/lib/python3.6/site-packages (3.1.1)\n",
      "Requirement already satisfied: cycler>=0.10 in /Users/tusharpoddar/opt/anaconda3/envs/final/lib/python3.6/site-packages (from matplotlib) (0.10.0)\n",
      "Requirement already satisfied: kiwisolver>=1.0.1 in /Users/tusharpoddar/opt/anaconda3/envs/final/lib/python3.6/site-packages (from matplotlib) (1.1.0)\n",
      "Requirement already satisfied: pyparsing!=2.0.4,!=2.1.2,!=2.1.6,>=2.0.1 in /Users/tusharpoddar/opt/anaconda3/envs/final/lib/python3.6/site-packages (from matplotlib) (2.4.4)\n",
      "Requirement already satisfied: python-dateutil>=2.1 in /Users/tusharpoddar/opt/anaconda3/envs/final/lib/python3.6/site-packages (from matplotlib) (2.8.1)\n",
      "Requirement already satisfied: numpy>=1.11 in /Users/tusharpoddar/opt/anaconda3/envs/final/lib/python3.6/site-packages (from matplotlib) (1.15.4)\n",
      "Requirement already satisfied: six in /Users/tusharpoddar/opt/anaconda3/envs/final/lib/python3.6/site-packages (from cycler>=0.10->matplotlib) (1.11.0)\n",
      "Requirement already satisfied: setuptools in /Users/tusharpoddar/opt/anaconda3/envs/final/lib/python3.6/site-packages (from kiwisolver>=1.0.1->matplotlib) (41.6.0.post20191030)\n",
      "Requirement already satisfied: scipy in /Users/tusharpoddar/opt/anaconda3/envs/final/lib/python3.6/site-packages (1.1.0)\n",
      "Requirement already satisfied: holoviews in /Users/tusharpoddar/opt/anaconda3/envs/final/lib/python3.6/site-packages (1.12.7)\n",
      "Requirement already satisfied: pyviz-comms>=0.7.2 in /Users/tusharpoddar/opt/anaconda3/envs/final/lib/python3.6/site-packages (from holoviews) (0.7.2)\n",
      "Requirement already satisfied: param<2.0,>=1.8.0 in /Users/tusharpoddar/opt/anaconda3/envs/final/lib/python3.6/site-packages (from holoviews) (1.9.2)\n",
      "Requirement already satisfied: numpy>=1.0 in /Users/tusharpoddar/opt/anaconda3/envs/final/lib/python3.6/site-packages (from holoviews) (1.15.4)\n",
      "Requirement already satisfied: wget in /Users/tusharpoddar/opt/anaconda3/envs/final/lib/python3.6/site-packages (3.2)\n"
     ]
    }
   ],
   "source": [
    "# downloading all the packages being used\n",
    "!pip install matplotlib\n",
    "!pip install scipy\n",
    "!pip install holoviews\n",
    "!pip install wget"
   ]
  },
  {
   "cell_type": "code",
   "execution_count": 3,
   "metadata": {},
   "outputs": [],
   "source": [
    "# importing all the packages\n",
    "import matplotlib.pyplot as plt\n",
    "\n",
    "from scipy.io import wavfile\n",
    "import io\n",
    "import holoviews as hv\n",
    "import param\n",
    "from holoviews import opts\n",
    "\n",
    "import os \n",
    "import numpy as np\n",
    "from bokeh.plotting import figure, show\n",
    "from bokeh.io import output_notebook\n",
    "\n",
    "import imp \n",
    "from holoviews import opts\n",
    "from holoviews.operation import Operation\n",
    "\n",
    "plt.rcParams.update({'figure.max_open_warning': 0})\n",
    "import wget"
   ]
  },
  {
   "cell_type": "code",
   "execution_count": 4,
   "metadata": {},
   "outputs": [],
   "source": [
    "import numpy as np"
   ]
  },
  {
   "cell_type": "code",
   "execution_count": 5,
   "metadata": {},
   "outputs": [],
   "source": [
    "# miceSound = np.load('miceSound.npy')\n",
    "url = 'https://valentina-public.s3-us-west-2.amazonaws.com/USV_project/miceSound.npy'\n",
    "miceFile = wget.download(url)"
   ]
  },
  {
   "cell_type": "code",
   "execution_count": null,
   "metadata": {},
   "outputs": [],
   "source": [
    "# noise = np.load('noise.npy')\n",
    "url = 'https://valentina-public.s3-us-west-2.amazonaws.com/USV_project/noise.npy'\n",
    "noiseFile = wget.download(url)"
   ]
  },
  {
   "cell_type": "code",
   "execution_count": null,
   "metadata": {},
   "outputs": [],
   "source": [
    "miceSound = np.load(miceFile)"
   ]
  },
  {
   "cell_type": "code",
   "execution_count": null,
   "metadata": {},
   "outputs": [],
   "source": [
    "noise = np.load(noiseFile)"
   ]
  },
  {
   "cell_type": "code",
   "execution_count": null,
   "metadata": {},
   "outputs": [],
   "source": [
    "miceSound.shape"
   ]
  },
  {
   "cell_type": "code",
   "execution_count": null,
   "metadata": {},
   "outputs": [],
   "source": [
    "noise.shape"
   ]
  },
  {
   "cell_type": "code",
   "execution_count": null,
   "metadata": {},
   "outputs": [],
   "source": [
    "soundSpectrogram = miceSound[0:50, :, :]"
   ]
  },
  {
   "cell_type": "code",
   "execution_count": null,
   "metadata": {},
   "outputs": [],
   "source": [
    "print(soundSpectrogram[10, :, :])"
   ]
  },
  {
   "cell_type": "code",
   "execution_count": null,
   "metadata": {},
   "outputs": [],
   "source": [
    "print(soundSpectrogram[0, :, :])"
   ]
  },
  {
   "cell_type": "code",
   "execution_count": null,
   "metadata": {},
   "outputs": [],
   "source": [
    "noiseSpectrogram = noise[0:50, :, :]"
   ]
  },
  {
   "cell_type": "code",
   "execution_count": null,
   "metadata": {},
   "outputs": [],
   "source": [
    "dataset = soundSpectrogram[2, :, :]\n",
    "spec = np.reshape(dataset,(257, 55))\n",
    "plt.imshow(spec)"
   ]
  },
  {
   "cell_type": "code",
   "execution_count": null,
   "metadata": {},
   "outputs": [],
   "source": [
    "dataset = noiseSpectrogram[2, :, :]\n",
    "spec = np.reshape(dataset,(257, 55))\n",
    "plt.imshow(spec)"
   ]
  },
  {
   "cell_type": "code",
   "execution_count": null,
   "metadata": {},
   "outputs": [],
   "source": [
    "def spectrogram_generator(symbol):  \n",
    "    plt.figure(figsize = (20,10))\n",
    "    dataset = noiseSpectrogram[40, :, :]\n",
    "    spec = np.reshape(dataset,(96, 64))\n",
    "    holoviews_image_object = hv.Image(spec)\n",
    "    print(holoviews_image_object)\n",
    "    return holoviews_image_object"
   ]
  },
  {
   "cell_type": "code",
   "execution_count": null,
   "metadata": {},
   "outputs": [],
   "source": [
    "# creating a new panel in python \n",
    "import param\n",
    "import panel as pn\n",
    "\n",
    "sound_type_symbols = ['Mice Sound', 'Random Noise']\n",
    "\n",
    "class MiceNoiseExplorer(param.Parameterized):\n",
    "    rolling_window = param.Integer(default=10, bounds=(0, 50))\n",
    "    symbol = param.ObjectSelector(default='Mice Sound', objects=sound_type_symbols)\n",
    "    \n",
    "    @param.depends('symbol', 'rolling_window')\n",
    "    def spectrogram_generator(self):  \n",
    "        temp = plt.figure(figsize = (20,10))\n",
    "        fig, ax1 = plt.subplots(nrows=1)\n",
    "        if self.symbol == 'Mice Sound':\n",
    "            # specify which spectrogram we need to plot\n",
    "            dataset = soundSpectrogram[self.rolling_window, :, :]\n",
    "        elif self.symbol == 'Random Noise':\n",
    "            # specify which spectrogram we need to plot\n",
    "            dataset = noiseSpectrogram[self.rolling_window, :, :]\n",
    "        spec = np.reshape(dataset,(257, 55))\n",
    "        holoviews_image_object = hv.Image(spec)\n",
    "        #print(holoviews_image_object)\n",
    "        return holoviews_image_object"
   ]
  },
  {
   "cell_type": "code",
   "execution_count": null,
   "metadata": {
    "scrolled": false
   },
   "outputs": [],
   "source": [
    "explorer = MiceNoiseExplorer()\n",
    "\n",
    "# call the name of the function that we need to call\n",
    "stock_dmap = hv.DynamicMap(explorer.spectrogram_generator)\n",
    "temp = pn.extension()\n",
    "# call in the name of the \n",
    "pn.Row(pn.panel(explorer.param, parameters=['symbol', 'rolling_window']), stock_dmap)"
   ]
  },
  {
   "cell_type": "code",
   "execution_count": null,
   "metadata": {},
   "outputs": [],
   "source": []
  },
  {
   "cell_type": "code",
   "execution_count": null,
   "metadata": {},
   "outputs": [],
   "source": []
  }
 ],
 "metadata": {
  "kernelspec": {
   "display_name": "Python 3",
   "language": "python",
   "name": "python3"
  },
  "language_info": {
   "codemirror_mode": {
    "name": "ipython",
    "version": 3
   },
   "file_extension": ".py",
   "mimetype": "text/x-python",
   "name": "python",
   "nbconvert_exporter": "python",
   "pygments_lexer": "ipython3",
   "version": "3.6.6"
  }
 },
 "nbformat": 4,
 "nbformat_minor": 2
}
