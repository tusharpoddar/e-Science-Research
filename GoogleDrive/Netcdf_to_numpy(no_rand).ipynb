{
  "nbformat": 4,
  "nbformat_minor": 0,
  "metadata": {
    "colab": {
      "name": "Netcdf-to-numpy(no-rand).ipynb",
      "provenance": [],
      "collapsed_sections": [],
      "authorship_tag": "ABX9TyMy7UcuRhiMKBLAuDj5HmSz",
      "include_colab_link": true
    },
    "kernelspec": {
      "name": "python3",
      "display_name": "Python 3"
    },
    "accelerator": "GPU"
  },
  "cells": [
    {
      "cell_type": "markdown",
      "metadata": {
        "id": "view-in-github",
        "colab_type": "text"
      },
      "source": [
        "<a href=\"https://colab.research.google.com/github/tusharpoddar/e-Science-Research/blob/master/GoogleDrive/Netcdf_to_numpy(no_rand).ipynb\" target=\"_parent\"><img src=\"https://colab.research.google.com/assets/colab-badge.svg\" alt=\"Open In Colab\"/></a>"
      ]
    },
    {
      "cell_type": "markdown",
      "metadata": {
        "id": "pbE_s9xJG2Cx",
        "colab_type": "text"
      },
      "source": [
        "# The following class is used to prepare a numpy file that can be used for the training later.\n",
        "\n",
        "## The following notebook does the following things - \n",
        "1. The notebook asks the user the specify the dataset as a CSV file that needs to be converted into a numpy array that can be used by the VGGish model. \n",
        "\n",
        "2. The notebook opens the specified CSv file with the help of pandas. \n",
        "\n",
        "3. The notebook then gives an example of how to open the netcdf files that the CSV file specify in the form of animal number, experiment number, etc. \n",
        "\n",
        "4. The notebook then gives you an option to store all the data for the NetCDF file to a numpy array that can be easily handled. \n",
        "\n",
        "# Conclusion - \n",
        "The notebook can be used for variuos things - \n",
        "1. The following data is an initial step towards generating the data that can be used by the VGGish model. \n",
        "\n",
        "2. If you want to see the proper notebook that generates the data for the VGGish model head over to see Netcdf-to-numpy(rand).ipynb \n"
      ]
    },
    {
      "cell_type": "code",
      "metadata": {
        "id": "U_BeMoGNk4ZP",
        "colab_type": "code",
        "colab": {
          "base_uri": "https://localhost:8080/",
          "height": 122
        },
        "outputId": "e9b72be9-eb60-459b-d2b6-d8d7a6e4cac3"
      },
      "source": [
        "from google.colab import drive\n",
        "drive.mount('/content/gdrive')"
      ],
      "execution_count": null,
      "outputs": [
        {
          "output_type": "stream",
          "text": [
            "Go to this URL in a browser: https://accounts.google.com/o/oauth2/auth?client_id=947318989803-6bn6qk8qdgf4n4g3pfee6491hc0brc4i.apps.googleusercontent.com&redirect_uri=urn%3aietf%3awg%3aoauth%3a2.0%3aoob&response_type=code&scope=email%20https%3a%2f%2fwww.googleapis.com%2fauth%2fdocs.test%20https%3a%2f%2fwww.googleapis.com%2fauth%2fdrive%20https%3a%2f%2fwww.googleapis.com%2fauth%2fdrive.photos.readonly%20https%3a%2f%2fwww.googleapis.com%2fauth%2fpeopleapi.readonly\n",
            "\n",
            "Enter your authorization code:\n",
            "··········\n",
            "Mounted at /content/gdrive\n"
          ],
          "name": "stdout"
        }
      ]
    },
    {
      "cell_type": "code",
      "metadata": {
        "id": "etjdoDmvsiHH",
        "colab_type": "code",
        "colab": {
          "base_uri": "https://localhost:8080/",
          "height": 190
        },
        "outputId": "19510e06-fae5-46f9-cb83-24a146af989b"
      },
      "source": [
        "pip install netcdf4"
      ],
      "execution_count": null,
      "outputs": [
        {
          "output_type": "stream",
          "text": [
            "Collecting netcdf4\n",
            "\u001b[?25l  Downloading https://files.pythonhosted.org/packages/09/39/3687b2ba762a709cd97e48dfaf3ae36a78ae603ec3d1487f767ad58a7b2e/netCDF4-1.5.4-cp36-cp36m-manylinux1_x86_64.whl (4.3MB)\n",
            "\u001b[K     |████████████████████████████████| 4.3MB 7.6MB/s \n",
            "\u001b[?25hCollecting cftime\n",
            "\u001b[?25l  Downloading https://files.pythonhosted.org/packages/81/f4/31cb9b65f462ea960bd334c5466313cb7b8af792f272546b68b7868fccd4/cftime-1.2.1-cp36-cp36m-manylinux1_x86_64.whl (287kB)\n",
            "\u001b[K     |████████████████████████████████| 296kB 43.7MB/s \n",
            "\u001b[?25hRequirement already satisfied: numpy>=1.9 in /usr/local/lib/python3.6/dist-packages (from netcdf4) (1.18.5)\n",
            "Installing collected packages: cftime, netcdf4\n",
            "Successfully installed cftime-1.2.1 netcdf4-1.5.4\n"
          ],
          "name": "stdout"
        }
      ]
    },
    {
      "cell_type": "markdown",
      "metadata": {
        "id": "jSp3i67MvyBR",
        "colab_type": "text"
      },
      "source": [
        "The following code is written to read the csv files from the drive and see the spectrograms from the netcdf file. "
      ]
    },
    {
      "cell_type": "code",
      "metadata": {
        "id": "iXx61oXavlvv",
        "colab_type": "code",
        "colab": {
          "base_uri": "https://localhost:8080/",
          "height": 34
        },
        "outputId": "3d8541e3-7ea1-413d-ea9e-5ae4809def6c"
      },
      "source": [
        "cd /content/gdrive/Shared drives/USV_eScience_Incubator"
      ],
      "execution_count": null,
      "outputs": [
        {
          "output_type": "stream",
          "text": [
            "/content/gdrive/Shared drives/USV_eScience_Incubator\n"
          ],
          "name": "stdout"
        }
      ]
    },
    {
      "cell_type": "code",
      "metadata": {
        "id": "tCU7nE0e26uU",
        "colab_type": "code",
        "colab": {}
      },
      "source": [
        "import pandas as pd"
      ],
      "execution_count": null,
      "outputs": []
    },
    {
      "cell_type": "code",
      "metadata": {
        "id": "Sf7Ioo3I4dZB",
        "colab_type": "code",
        "colab": {}
      },
      "source": [
        "path = '/content/gdrive/Shared drives/USV_eScience_Incubator/Data/annotation_data_frames/annot_df_CPApost_round2.csv'"
      ],
      "execution_count": null,
      "outputs": []
    },
    {
      "cell_type": "code",
      "metadata": {
        "id": "jvrGQfm4-WWn",
        "colab_type": "code",
        "colab": {}
      },
      "source": [
        "annot = pd.read_csv(path)"
      ],
      "execution_count": null,
      "outputs": []
    },
    {
      "cell_type": "code",
      "metadata": {
        "id": "nzMxAN7b-YOg",
        "colab_type": "code",
        "colab": {
          "base_uri": "https://localhost:8080/",
          "height": 408
        },
        "outputId": "b895811d-c49e-45c2-9733-f6ce42a2f24a"
      },
      "source": [
        "annot = pd.DataFrame(data = annot)\n",
        "print(annot)\n",
        "print(annot.Annotation.value_counts())"
      ],
      "execution_count": null,
      "outputs": [
        {
          "output_type": "stream",
          "text": [
            "    Unnamed: 0  Annotation  High Freq (Hz)  ...     exp  session time_stamp\n",
            "0            0         bbc         61181.4  ...  round2  CPApost   370080.0\n",
            "1            1         bbc         51532.8  ...  round2  CPApost   548797.5\n",
            "2            0         low         27406.4  ...  round2  CPApost   178245.0\n",
            "3            1   low multi         61831.6  ...  round2  CPApost   262192.5\n",
            "4            2   low multi         62500.0  ...  round2  CPApost   262305.0\n",
            "..         ...         ...             ...  ...     ...      ...        ...\n",
            "76           2         bbc         26554.4  ...  round2  CPApost    20407.5\n",
            "77           3  high multi        121923.6  ...  round2  CPApost   167175.0\n",
            "78           4         bbc         42098.4  ...  round2  CPApost   236475.0\n",
            "79           5         low         18296.6  ...  round2  CPApost   310612.5\n",
            "80           6         NaN         26716.3  ...  round2  CPApost   590625.0\n",
            "\n",
            "[81 rows x 7 columns]\n",
            "bbc             32\n",
            "low             23\n",
            "low multi       10\n",
            "full multi       5\n",
            "high             5\n",
            "full complex     2\n",
            "low complex      2\n",
            "high multi       1\n",
            "Name: Annotation, dtype: int64\n"
          ],
          "name": "stdout"
        }
      ]
    },
    {
      "cell_type": "code",
      "metadata": {
        "id": "LhMfsLTWBNwS",
        "colab_type": "code",
        "colab": {}
      },
      "source": [
        "import numpy as np"
      ],
      "execution_count": null,
      "outputs": []
    },
    {
      "cell_type": "code",
      "metadata": {
        "id": "inQmtshNA84T",
        "colab_type": "code",
        "colab": {}
      },
      "source": [
        "annot_np = np.array(annot)"
      ],
      "execution_count": null,
      "outputs": []
    },
    {
      "cell_type": "code",
      "metadata": {
        "id": "hyqY8uaHBSun",
        "colab_type": "code",
        "colab": {
          "base_uri": "https://localhost:8080/",
          "height": 34
        },
        "outputId": "8a3d9b43-4dce-4d13-bdc6-4d451354ebed"
      },
      "source": [
        "annot_np.shape"
      ],
      "execution_count": null,
      "outputs": [
        {
          "output_type": "execute_result",
          "data": {
            "text/plain": [
              "(81, 7)"
            ]
          },
          "metadata": {
            "tags": []
          },
          "execution_count": 10
        }
      ]
    },
    {
      "cell_type": "code",
      "metadata": {
        "id": "Q4rlCpJlBUHe",
        "colab_type": "code",
        "colab": {
          "base_uri": "https://localhost:8080/",
          "height": 1000
        },
        "outputId": "70a6a626-9065-4ad2-fcc0-f235590b62c1"
      },
      "source": [
        "print(annot_np)"
      ],
      "execution_count": null,
      "outputs": [
        {
          "output_type": "stream",
          "text": [
            "[[0 'bbc' 61181.4 625 'round2' 'CPApost' 370080.0]\n",
            " [1 'bbc' 51532.8 625 'round2' 'CPApost' 548797.5]\n",
            " [0 'low' 27406.4 624 'round2' 'CPApost' 178245.0]\n",
            " [1 'low multi' 61831.6 624 'round2' 'CPApost' 262192.5]\n",
            " [2 'low multi' 62500.0 624 'round2' 'CPApost' 262305.0]\n",
            " [3 'low multi' 37767.4 624 'round2' 'CPApost' 262125.0]\n",
            " [4 'low' 25401.1 624 'round2' 'CPApost' 266400.0]\n",
            " [5 'low' 25849.9 624 'round2' 'CPApost' 307800.0]\n",
            " [6 'low' 19802.0 624 'round2' 'CPApost' 266490.0]\n",
            " [0 'bbc' 51315.8 623 'round2' 'CPApost' 26865.0]\n",
            " [1 'low' 34429.8 623 'round2' 'CPApost' 79335.0]\n",
            " [0 'bbc' 101096.5 622 'round2' 'CPApost' 67095.0]\n",
            " [1 'bbc' 100219.3 622 'round2' 'CPApost' 67702.5]\n",
            " [2 'bbc' 114473.7 622 'round2' 'CPApost' 67972.5]\n",
            " [3 'full multi' 104824.6 622 'round2' 'CPApost' 91912.5]\n",
            " [4 'full multi' 111184.2 622 'round2' 'CPApost' 92047.5]\n",
            " [5 'full multi' 105043.9 622 'round2' 'CPApost' 92137.5]\n",
            " [6 'full multi' 108552.6 622 'round2' 'CPApost' 95040.0]\n",
            " [7 'full multi' 108114.0 622 'round2' 'CPApost' 95130.0]\n",
            " [8 'low' 37061.4 622 'round2' 'CPApost' 99742.5]\n",
            " [9 'low' 50000.0 622 'round2' 'CPApost' 100417.5]\n",
            " [10 'full complex' 88377.2 622 'round2' 'CPApost' 136057.5]\n",
            " [11 'low' 19956.1 622 'round2' 'CPApost' 136102.5]\n",
            " [12 'full complex' 45175.4 622 'round2' 'CPApost' 136170.0]\n",
            " [13 'low' 31578.9 622 'round2' 'CPApost' 137407.5]\n",
            " [14 'bbc' 56798.2 622 'round2' 'CPApost' 233865.0]\n",
            " [15 'bbc' 69078.9 622 'round2' 'CPApost' 233887.5]\n",
            " [16 'bbc' 78289.5 622 'round2' 'CPApost' 234180.0]\n",
            " [17 'bbc' 79605.3 622 'round2' 'CPApost' 277785.0]\n",
            " [18 'high' 71017.7 622 'round2' 'CPApost' 585000.0]\n",
            " [0 'high' 71710.5 621 'round2' 'CPApost' 11362.5]\n",
            " [1 'bbc' 49050.6 621 'round2' 'CPApost' 113062.5]\n",
            " [2 'bbc' 47413.8 621 'round2' 'CPApost' 113377.5]\n",
            " [3 'bbc' 46182.3 621 'round2' 'CPApost' 113850.0]\n",
            " [4 'bbc' 48029.6 621 'round2' 'CPApost' 138465.0]\n",
            " [5 'low' 32909.3 621 'round2' 'CPApost' 156622.5]\n",
            " [6 'low' 28484.5 621 'round2' 'CPApost' 157207.5]\n",
            " [7 'low' 21294.2 621 'round2' 'CPApost' 157297.5]\n",
            " [8 'bbc' 81832.6 621 'round2' 'CPApost' 410242.5]\n",
            " [9 'bbc' 58314.7 621 'round2' 'CPApost' 488407.5]\n",
            " [10 'low complex' 42785.2 621 'round2' 'CPApost' 550710.0]\n",
            " [11 'low' 18736.0 621 'round2' 'CPApost' 551542.5]\n",
            " [12 'low multi' 41666.7 621 'round2' 'CPApost' 551430.0]\n",
            " [13 'low' 24608.5 621 'round2' 'CPApost' 551452.5]\n",
            " [14 'low' 19295.3 621 'round2' 'CPApost' 551475.0]\n",
            " [15 'low' 46420.6 621 'round2' 'CPApost' 565740.0]\n",
            " [16 'low multi' 32635.5 621 'round2' 'CPApost' 157140.0]\n",
            " [17 'low multi' 33251.2 621 'round2' 'CPApost' 157252.5]\n",
            " [0 'bbc' 57456.1 630 'round2' 'CPApost' 21442.5]\n",
            " [1 'low' 28638.8 630 'round2' 'CPApost' 238545.0]\n",
            " [2 'low' 32345.0 630 'round2' 'CPApost' 238657.5]\n",
            " [3 'bbc' 76482.5 630 'round2' 'CPApost' 557910.0]\n",
            " [4 'low' 38072.8 630 'round2' 'CPApost' 561757.5]\n",
            " [0 'high' 89411.2 631 'round2' 'CPApost' 21780.0]\n",
            " [1 'high' 90729.3 631 'round2' 'CPApost' 33502.5]\n",
            " [2 'high' 97319.9 631 'round2' 'CPApost' 193792.5]\n",
            " [3 'bbc' 36618.9 631 'round2' 'CPApost' 509130.0]\n",
            " [4 'low multi' 36783.0 631 'round2' 'CPApost' 580095.0]\n",
            " [0 'low multi' 59496.6 629 'round2' 'CPApost' 240277.5]\n",
            " [0 'bbc' 34870.0 627 'round2' 'CPApost' 160672.5]\n",
            " [1 'bbc' 45212.8 627 'round2' 'CPApost' 183712.5]\n",
            " [2 'low' 15809.7 627 'round2' 'CPApost' 185760.0]\n",
            " [3 'bbc' 58353.1 627 'round2' 'CPApost' 476122.5]\n",
            " [4 'bbc' 44727.5 627 'round2' 'CPApost' 476865.0]\n",
            " [5 'bbc' 44135.1 627 'round2' 'CPApost' 541417.5]\n",
            " [0 'low multi' 35307.0 626 'round2' 'CPApost' 69120.0]\n",
            " [1 'bbc' 77850.9 626 'round2' 'CPApost' 120757.5]\n",
            " [2 'bbc' 47149.1 626 'round2' 'CPApost' 193702.5]\n",
            " [3 'bbc' 48626.4 626 'round2' 'CPApost' 548055.0]\n",
            " [4 'low' 26515.2 626 'round2' 'CPApost' 581782.5]\n",
            " [5 'low multi' 55944.1 626 'round2' 'CPApost' 581985.0]\n",
            " [6 'low complex' 57109.6 626 'round2' 'CPApost' 582142.5]\n",
            " [7 'low' 19522.1 626 'round2' 'CPApost' 582480.0]\n",
            " [0 'bbc' 53851.2 628 'round2' 'CPApost' 510367.5]\n",
            " [0 'bbc' 33678.8 632 'round2' 'CPApost' 53392.5]\n",
            " [1 'bbc' 34164.5 632 'round2' 'CPApost' 53257.5]\n",
            " [2 'bbc' 26554.4 632 'round2' 'CPApost' 20407.5]\n",
            " [3 'high multi' 121923.6 632 'round2' 'CPApost' 167175.0]\n",
            " [4 'bbc' 42098.4 632 'round2' 'CPApost' 236475.0]\n",
            " [5 'low' 18296.6 632 'round2' 'CPApost' 310612.5]\n",
            " [6 nan 26716.3 632 'round2' 'CPApost' 590625.0]]\n"
          ],
          "name": "stdout"
        }
      ]
    },
    {
      "cell_type": "code",
      "metadata": {
        "id": "C8NoBnqTC39V",
        "colab_type": "code",
        "colab": {}
      },
      "source": [
        "import xarray as xr"
      ],
      "execution_count": null,
      "outputs": []
    },
    {
      "cell_type": "code",
      "metadata": {
        "id": "ZwdiJDJTzV9X",
        "colab_type": "code",
        "colab": {}
      },
      "source": [
        "import cv2"
      ],
      "execution_count": null,
      "outputs": []
    },
    {
      "cell_type": "code",
      "metadata": {
        "id": "a4NA2azKstu5",
        "colab_type": "code",
        "colab": {}
      },
      "source": [
        "dataWork = []"
      ],
      "execution_count": null,
      "outputs": []
    },
    {
      "cell_type": "code",
      "metadata": {
        "id": "Xtk74HUxm28E",
        "colab_type": "code",
        "colab": {
          "base_uri": "https://localhost:8080/",
          "height": 1000
        },
        "outputId": "d965f719-69fe-4999-d4aa-1b86893d393d"
      },
      "source": [
        "# reading all the netcdf files that are important to produce the spectrrogram in numpy\n",
        "for record in annot_np:\n",
        "  path = '/content/gdrive/Shared drives/USV_eScience_Incubator/Data/netcdf_files/CPA/' + str(record[3]) +'_CPApost_xr_Dataset.nc'\n",
        "  data = xr.open_dataset(path)\n",
        "  time = record[6]\n",
        "  print(time)\n",
        "  xr_slice = data['__xarray_dataarray_variable__'].sel(slices=time)\n",
        "  temp = np.array(xr_slice)\n",
        "  changed = cv2.resize(temp, (64, 96))\n",
        "  dataWork.append(changed)"
      ],
      "execution_count": null,
      "outputs": [
        {
          "output_type": "stream",
          "text": [
            "370080.0\n",
            "548797.5\n",
            "178245.0\n",
            "262192.5\n",
            "262305.0\n",
            "262125.0\n",
            "266400.0\n",
            "307800.0\n",
            "266490.0\n",
            "26865.0\n",
            "79335.0\n",
            "67095.0\n",
            "67702.5\n",
            "67972.5\n",
            "91912.5\n",
            "92047.5\n",
            "92137.5\n",
            "95040.0\n",
            "95130.0\n",
            "99742.5\n",
            "100417.5\n",
            "136057.5\n",
            "136102.5\n",
            "136170.0\n",
            "137407.5\n",
            "233865.0\n",
            "233887.5\n",
            "234180.0\n",
            "277785.0\n",
            "585000.0\n",
            "11362.5\n",
            "113062.5\n",
            "113377.5\n",
            "113850.0\n",
            "138465.0\n",
            "156622.5\n",
            "157207.5\n",
            "157297.5\n",
            "410242.5\n",
            "488407.5\n",
            "550710.0\n",
            "551542.5\n",
            "551430.0\n",
            "551452.5\n",
            "551475.0\n",
            "565740.0\n",
            "157140.0\n",
            "157252.5\n",
            "21442.5\n",
            "238545.0\n",
            "238657.5\n",
            "557910.0\n",
            "561757.5\n",
            "21780.0\n",
            "33502.5\n",
            "193792.5\n",
            "509130.0\n",
            "580095.0\n",
            "240277.5\n",
            "160672.5\n",
            "183712.5\n",
            "185760.0\n",
            "476122.5\n",
            "476865.0\n",
            "541417.5\n",
            "69120.0\n",
            "120757.5\n",
            "193702.5\n",
            "548055.0\n",
            "581782.5\n",
            "581985.0\n",
            "582142.5\n",
            "582480.0\n",
            "510367.5\n",
            "53392.5\n",
            "53257.5\n",
            "20407.5\n",
            "167175.0\n",
            "236475.0\n",
            "310612.5\n",
            "590625.0\n"
          ],
          "name": "stdout"
        }
      ]
    },
    {
      "cell_type": "code",
      "metadata": {
        "id": "9Box6RmQB8Us",
        "colab_type": "code",
        "colab": {
          "base_uri": "https://localhost:8080/",
          "height": 34
        },
        "outputId": "4ae033c3-b6a3-4760-c0d7-2fe3866c1ee2"
      },
      "source": [
        "final = np.array(dataWork)\n",
        "print(final.shape)"
      ],
      "execution_count": null,
      "outputs": [
        {
          "output_type": "stream",
          "text": [
            "(81, 96, 64)\n"
          ],
          "name": "stdout"
        }
      ]
    },
    {
      "cell_type": "code",
      "metadata": {
        "id": "cwxG__DV0NiG",
        "colab_type": "code",
        "colab": {
          "base_uri": "https://localhost:8080/",
          "height": 34
        },
        "outputId": "bd81c4a1-2ae9-44e2-a1cd-82fdc538bf2b"
      },
      "source": [
        "cd .."
      ],
      "execution_count": null,
      "outputs": [
        {
          "output_type": "stream",
          "text": [
            "/content/gdrive/Shared drives\n"
          ],
          "name": "stdout"
        }
      ]
    },
    {
      "cell_type": "code",
      "metadata": {
        "id": "Zex1iTTz0VzT",
        "colab_type": "code",
        "colab": {
          "base_uri": "https://localhost:8080/",
          "height": 34
        },
        "outputId": "4d87de74-b343-44bb-a56f-a36ea067a0ce"
      },
      "source": [
        "cd Research/"
      ],
      "execution_count": null,
      "outputs": [
        {
          "output_type": "stream",
          "text": [
            "/content/gdrive/Shared drives/Research\n"
          ],
          "name": "stdout"
        }
      ]
    },
    {
      "cell_type": "code",
      "metadata": {
        "id": "5tt2Xfnvzjhg",
        "colab_type": "code",
        "colab": {}
      },
      "source": [
        "# saving it into a numpy file so that we donnt have to calculate them again and again\n",
        "np.save('annot_df_CPApost_round2_data.npy', final)"
      ],
      "execution_count": null,
      "outputs": []
    },
    {
      "cell_type": "code",
      "metadata": {
        "id": "1yYmXGLQxQim",
        "colab_type": "code",
        "colab": {
          "base_uri": "https://localhost:8080/",
          "height": 286
        },
        "outputId": "3283fdf6-a571-4554-d5c0-42976176c125"
      },
      "source": [
        "import matplotlib.pyplot as plt\n",
        "plt.imshow(final[80, :,:])"
      ],
      "execution_count": null,
      "outputs": [
        {
          "output_type": "execute_result",
          "data": {
            "text/plain": [
              "<matplotlib.image.AxesImage at 0x7fcfc8ee64a8>"
            ]
          },
          "metadata": {
            "tags": []
          },
          "execution_count": 27
        },
        {
          "output_type": "display_data",
          "data": {
            "image/png": "[encoded data removed]",
            "text/plain": [
              "<Figure size 432x288 with 1 Axes>"
            ]
          },
          "metadata": {
            "tags": [],
            "needs_background": "light"
          }
        }
      ]
    },
    {
      "cell_type": "code",
      "metadata": {
        "id": "FfnIg-4SvNlD",
        "colab_type": "code",
        "colab": {}
      },
      "source": [
        "# code to calculate the numpy array that is for the time that represent the noise \n",
        "# reading all the netcdf files that are important to produce the spectrogram in numpy format. \n",
        "for record in annot_np:\n",
        "  path = '/content/gdrive/Shared drives/USV_eScience_Incubator/Data/netcdf_files/CPA/' + str(record[3]) +'_CPApost_xr_Dataset.nc'\n",
        "  data = xr.open_dataset(path)\n",
        "  num = np.array(data.to_array())\n",
        "  final = num[0, :, :, :]\n",
        "  print(num.shape)"
      ],
      "execution_count": null,
      "outputs": []
    },
    {
      "cell_type": "code",
      "metadata": {
        "id": "jXREv6VXyhDw",
        "colab_type": "code",
        "colab": {}
      },
      "source": [
        "path = '/content/gdrive/Shared drives/Research/Data/Numpy files/annot_df_CPApost_round2/annot_df_CPApost_round2_data.npy'"
      ],
      "execution_count": null,
      "outputs": []
    },
    {
      "cell_type": "code",
      "metadata": {
        "id": "oLju6UeWyiqR",
        "colab_type": "code",
        "colab": {}
      },
      "source": [
        "data_loaded = np.load(path)"
      ],
      "execution_count": null,
      "outputs": []
    }
  ]
}