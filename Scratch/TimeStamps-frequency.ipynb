{
 "cells": [
  {
   "cell_type": "code",
   "execution_count": 12,
   "metadata": {},
   "outputs": [],
   "source": [
    "import numpy as np"
   ]
  },
  {
   "cell_type": "code",
   "execution_count": 35,
   "metadata": {},
   "outputs": [
    {
     "name": "stdout",
     "output_type": "stream",
     "text": [
      "250000\n",
      "[   0    0    0 ... -531 -175 -377]\n",
      "(14598982,)\n"
     ]
    }
   ],
   "source": [
    "# this block of code is not very important here - tryting to reverse engineer things here \n",
    "from scipy.io import wavfile\n",
    "fs, data = wavfile.read('tester.wav')\n",
    "print(fs)\n",
    "print(data)\n",
    "print(data.shape)"
   ]
  },
  {
   "cell_type": "code",
   "execution_count": 13,
   "metadata": {},
   "outputs": [],
   "source": [
    "a = np.load('readnumpy.npy')"
   ]
  },
  {
   "cell_type": "code",
   "execution_count": 14,
   "metadata": {},
   "outputs": [],
   "source": [
    "# storing the shape of the numpy array in a variable to access its different fields \n",
    "l = a.shape\n",
    "\n",
    "observations = l[0]\n",
    "timeMarks = l[1]\n",
    "freq = l[2]"
   ]
  },
  {
   "cell_type": "code",
   "execution_count": 26,
   "metadata": {},
   "outputs": [
    {
     "name": "stdout",
     "output_type": "stream",
     "text": [
      "[0.0, array([-4.60441965, -4.6045388 , -4.60474968, -4.60478941, -4.60434184,\n",
      "       -4.60456831, -4.60440197, -4.60399346, -4.60454952, -4.60456752,\n",
      "       -4.6045401 , -4.60481015, -4.60459814, -4.60482189, -4.60462691,\n",
      "       -4.60394851, -4.60397135, -4.60413752, -4.60414014, -4.60444042,\n",
      "       -4.60364404, -4.60295115, -4.60041452, -4.60269036, -4.60358032,\n",
      "       -4.60400852, -4.60477359, -4.60329929, -4.60241865, -4.6036583 ,\n",
      "       -4.60286638, -4.6039387 , -4.60314289, -4.60311125, -4.60279714,\n",
      "       -4.60145259, -4.6023406 , -4.60329809, -4.60174796, -4.60180934,\n",
      "       -4.60261065, -4.60279878, -4.60340004, -4.60405838, -4.60215145,\n",
      "       -4.60175434, -4.60210111, -4.60175544, -4.60089919, -4.60348942,\n",
      "       -4.60261432, -4.60139751, -4.60018669, -4.59930838, -4.60008962,\n",
      "       -4.60167221, -4.60070579, -4.60133804, -4.59988321, -4.60080316,\n",
      "       -4.60087881, -4.5987267 , -4.60019588, -4.59890431])]\n"
     ]
    }
   ],
   "source": [
    "count = 0\n",
    "num = observations * timeMarks\n",
    "\n",
    "result = [[] for _ in range(num)]\n",
    "\n",
    "for x in range(0, num):\n",
    "    result[x].append(x*0.01)\n",
    "    index1 = x // 96\n",
    "    index2 = x % 96\n",
    "    result[x].append(a[index1][index2])\n",
    "    \n",
    "print(result[0])"
   ]
  },
  {
   "cell_type": "code",
   "execution_count": 34,
   "metadata": {},
   "outputs": [
    {
     "name": "stderr",
     "output_type": "stream",
     "text": [
      "/Users/tusharpoddar/opt/anaconda3/envs/final/lib/python3.6/site-packages/ipykernel_launcher.py:13: UserWarning: Only one segment is calculated since parameter NFFT (=512) >= signal length (=64).\n",
      "  del sys.path[0]\n"
     ]
    },
    {
     "data": {
      "image/png": "[encoded data removed]",
      "text/plain": [
       "<Figure size 1440x720 with 1 Axes>"
      ]
     },
     "metadata": {
      "needs_background": "light"
     },
     "output_type": "display_data"
    }
   ],
   "source": [
    "# create a spectrogram with matplotlib\n",
    "NFFT = 512 # the length of the windowing segments\n",
    "# dont know what the sampling rate is \n",
    "# in the example given to us this is returned as a output of the wavefile.read argument\n",
    "fs = 250000\n",
    "plt.figure(figsize = (20,10))\n",
    "\n",
    "# converting a list to a numpy array in order for the input to be in the correct form\n",
    "npa = np.array(result[150][1])\n",
    "\n",
    "# takes in a 1-d array ie the data it needs to plot, the sampling frequency\n",
    "# the non-overlap which is the \n",
    "Pxx, freqs, bins, im = plt.specgram(npa, NFFT=NFFT, Fs=fs, noverlap=10)"
   ]
  },
  {
   "cell_type": "code",
   "execution_count": 11,
   "metadata": {},
   "outputs": [
    {
     "ename": "NameError",
     "evalue": "name 'Pxx' is not defined",
     "output_type": "error",
     "traceback": [
      "\u001b[0;31m---------------------------------------------------------------------------\u001b[0m",
      "\u001b[0;31mNameError\u001b[0m                                 Traceback (most recent call last)",
      "\u001b[0;32m<ipython-input-11-4f652c91579a>\u001b[0m in \u001b[0;36m<module>\u001b[0;34m\u001b[0m\n\u001b[1;32m      1\u001b[0m \u001b[0;32mimport\u001b[0m \u001b[0mxarray\u001b[0m \u001b[0;32mas\u001b[0m \u001b[0mxr\u001b[0m\u001b[0;34m\u001b[0m\u001b[0m\n\u001b[1;32m      2\u001b[0m \u001b[0;34m\u001b[0m\u001b[0m\n\u001b[0;32m----> 3\u001b[0;31m \u001b[0mxr_spec\u001b[0m \u001b[0;34m=\u001b[0m \u001b[0mxr\u001b[0m\u001b[0;34m.\u001b[0m\u001b[0mDataArray\u001b[0m\u001b[0;34m(\u001b[0m\u001b[0mnp\u001b[0m\u001b[0;34m.\u001b[0m\u001b[0mlog\u001b[0m\u001b[0;34m(\u001b[0m\u001b[0mPxx\u001b[0m\u001b[0;34m)\u001b[0m\u001b[0;34m,\u001b[0m\u001b[0mdims\u001b[0m \u001b[0;34m=\u001b[0m \u001b[0;34m(\u001b[0m\u001b[0;34m'freq'\u001b[0m\u001b[0;34m,\u001b[0m\u001b[0;34m'time'\u001b[0m\u001b[0;34m)\u001b[0m\u001b[0;34m,\u001b[0m\u001b[0mcoords\u001b[0m \u001b[0;34m=\u001b[0m \u001b[0;34m{\u001b[0m\u001b[0;34m'freq'\u001b[0m\u001b[0;34m:\u001b[0m\u001b[0mfreqs\u001b[0m\u001b[0;34m,\u001b[0m\u001b[0;34m'time'\u001b[0m\u001b[0;34m:\u001b[0m\u001b[0mbins\u001b[0m\u001b[0;34m}\u001b[0m\u001b[0;34m)\u001b[0m\u001b[0;34m\u001b[0m\u001b[0m\n\u001b[0m\u001b[1;32m      4\u001b[0m \u001b[0;34m\u001b[0m\u001b[0m\n\u001b[1;32m      5\u001b[0m \u001b[0mxr_spec\u001b[0m\u001b[0;34m.\u001b[0m\u001b[0mname\u001b[0m \u001b[0;34m=\u001b[0m \u001b[0;34m'Spectrogram'\u001b[0m\u001b[0;34m\u001b[0m\u001b[0m\n",
      "\u001b[0;31mNameError\u001b[0m: name 'Pxx' is not defined"
     ]
    }
   ],
   "source": [
    "import xarray as xr\n",
    "\n",
    "xr_spec = xr.DataArray(np.log(Pxx),dims = ('freq','time') ,coords = {'freq':freqs,'time':bins})\n",
    "\n",
    "xr_spec.name = 'Spectrogram'"
   ]
  },
  {
   "cell_type": "code",
   "execution_count": null,
   "metadata": {},
   "outputs": [],
   "source": []
  }
 ],
 "metadata": {
  "kernelspec": {
   "display_name": "Python 3",
   "language": "python",
   "name": "python3"
  },
  "language_info": {
   "codemirror_mode": {
    "name": "ipython",
    "version": 3
   },
   "file_extension": ".py",
   "mimetype": "text/x-python",
   "name": "python",
   "nbconvert_exporter": "python",
   "pygments_lexer": "ipython3",
   "version": "3.6.6"
  }
 },
 "nbformat": 4,
 "nbformat_minor": 2
}
