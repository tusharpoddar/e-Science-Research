{
 "cells": [
  {
   "cell_type": "code",
   "execution_count": 1,
   "metadata": {},
   "outputs": [],
   "source": [
    "import numpy as np"
   ]
  },
  {
   "cell_type": "code",
   "execution_count": 2,
   "metadata": {},
   "outputs": [],
   "source": [
    "a = np.load('readnumpy.npy')"
   ]
  },
  {
   "cell_type": "code",
   "execution_count": 8,
   "metadata": {},
   "outputs": [],
   "source": [
    "# storing the shape of the numpy array in a variable to access its different fields \n",
    "l = a.shape\n",
    "\n",
    "observations = l[0]\n",
    "timeMarks = l[1]\n",
    "freq = l[2]"
   ]
  },
  {
   "cell_type": "code",
   "execution_count": null,
   "metadata": {},
   "outputs": [],
   "source": [
    "for x in (0,59):\n",
    "    array = [0]\n",
    "    array.append()"
   ]
  },
  {
   "cell_type": "code",
   "execution_count": null,
   "metadata": {},
   "outputs": [],
   "source": [
    "rows, cols = (, ) \n",
    "arr = [[0 for i in range(cols)] for j in range(rows)] \n",
    "print(arr) \n"
   ]
  },
  {
   "cell_type": "code",
   "execution_count": 39,
   "metadata": {},
   "outputs": [
    {
     "name": "stdout",
     "output_type": "stream",
     "text": [
      "[0.0, array([-4.60441965, -4.6045388 , -4.60474968, -4.60478941, -4.60434184,\n",
      "       -4.60456831, -4.60440197, -4.60399346, -4.60454952, -4.60456752,\n",
      "       -4.6045401 , -4.60481015, -4.60459814, -4.60482189, -4.60462691,\n",
      "       -4.60394851, -4.60397135, -4.60413752, -4.60414014, -4.60444042,\n",
      "       -4.60364404, -4.60295115, -4.60041452, -4.60269036, -4.60358032,\n",
      "       -4.60400852, -4.60477359, -4.60329929, -4.60241865, -4.6036583 ,\n",
      "       -4.60286638, -4.6039387 , -4.60314289, -4.60311125, -4.60279714,\n",
      "       -4.60145259, -4.6023406 , -4.60329809, -4.60174796, -4.60180934,\n",
      "       -4.60261065, -4.60279878, -4.60340004, -4.60405838, -4.60215145,\n",
      "       -4.60175434, -4.60210111, -4.60175544, -4.60089919, -4.60348942,\n",
      "       -4.60261432, -4.60139751, -4.60018669, -4.59930838, -4.60008962,\n",
      "       -4.60167221, -4.60070579, -4.60133804, -4.59988321, -4.60080316,\n",
      "       -4.60087881, -4.5987267 , -4.60019588, -4.59890431])]\n"
     ]
    }
   ],
   "source": [
    "count = 0\n",
    "num = observations * timeMarks\n",
    "\n",
    "result = [[] for _ in range(num)]\n",
    "\n",
    "for x in range(0, num):\n",
    "    result[x].append(x*0.01)\n",
    "    index1 = x // 96\n",
    "    index2 = x % 96\n",
    "    result[x].append(a[index1][index2])\n",
    "    \n",
    "print(result[0])"
   ]
  },
  {
   "cell_type": "code",
   "execution_count": null,
   "metadata": {},
   "outputs": [],
   "source": []
  },
  {
   "cell_type": "code",
   "execution_count": 42,
   "metadata": {},
   "outputs": [],
   "source": [
    "import xarray as xr\n",
    "\n",
    "xr_spec = xr.DataArray(np.log(Pxx),dims = ('freq','time'),coords = {'freq':freqs,'time':bins})\n",
    "\n",
    "xr_spec.name = 'Spectrogram'"
   ]
  },
  {
   "cell_type": "code",
   "execution_count": null,
   "metadata": {},
   "outputs": [],
   "source": []
  }
 ],
 "metadata": {
  "kernelspec": {
   "display_name": "Python 3",
   "language": "python",
   "name": "python3"
  },
  "language_info": {
   "codemirror_mode": {
    "name": "ipython",
    "version": 3
   },
   "file_extension": ".py",
   "mimetype": "text/x-python",
   "name": "python",
   "nbconvert_exporter": "python",
   "pygments_lexer": "ipython3",
   "version": "3.6.6"
  }
 },
 "nbformat": 4,
 "nbformat_minor": 2
}
